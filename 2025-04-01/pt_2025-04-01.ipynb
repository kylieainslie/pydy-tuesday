{
 "cells": [
  {
   "cell_type": "markdown",
   "metadata": {},
   "source": [
    "# Pydy Tuesday 2025-04-01\n",
    "<img src=\"pokemon.png\" style=\"float: right; width: 100px; height: auto; margin-right: 100px;\" />\n",
    "\n",
    "Data Source:The dataset is sourced from [`pokemon`](https://github.com/williamorim/pokemon), an R package which provides Pokemon information in both English and Brazilian Portuguese.\n",
    "\n",
    "### Data Details\n",
    "This package provides a dataset of Pokemon information in both English and Brazilian Portuguese. The dataset contains 949 rows and 22 columns, including information such as the Pokemon’s name, ID, height, weight, stats, type, and more.\n",
    "\n",
    "### Exploration questions\n"
   ]
  },
  {
   "cell_type": "markdown",
   "metadata": {},
   "source": [
    "## Download data\n",
    "We can download the data using the `PyDyTuesday` library and specifying the date. This will load several files:\n",
    "- `pokemon_df.csv`: data file.\n",
    "- `pokemon.png`: logo sticker for `PalmTraits` database.\n",
    "- `meta.yaml`: meta data file with information about the data files and the curator.\n",
    "\n",
    "The data dictionary is located [here](https://github.com/rfordatascience/tidytuesday/blob/main/data/2025/2025-04-01/readme.md#data-dictionary)"
   ]
  },
  {
   "cell_type": "code",
   "execution_count": 1,
   "metadata": {},
   "outputs": [
    {
     "name": "stdout",
     "output_type": "stream",
     "text": [
      "meta.yaml downloaded\n",
      "pokemon.png downloaded\n",
      "pokemon_df.csv downloaded\n",
      "readme.md downloaded\n"
     ]
    }
   ],
   "source": [
    "import PyDyTuesday\n",
    "\n",
    "# Download files from the week, which you can then read in locally\n",
    "PyDyTuesday.get_date('2025-04-01')"
   ]
  },
  {
   "cell_type": "markdown",
   "metadata": {},
   "source": [
    "## Explore data\n",
    "First, let's read in the data and have a look. We'll read in the data CSV file: `pokemon_df.csv`. \n",
    "**Note: we need to specify `encoding='latin-1'`, otherwise we get an error when attempting to read in the file.**"
   ]
  },
  {
   "cell_type": "code",
   "execution_count": 33,
   "metadata": {},
   "outputs": [
    {
     "name": "stdout",
     "output_type": "stream",
     "text": [
      "   id     pokemon  species_id  height  weight  base_experience type_1  type_2  hp  attack  ...  special_defense  speed  color_1  color_2  color_f egg_group_1 egg_group_2  \\\n",
      "0   1   bulbasaur           1     0.7     6.9               64  grass  poison  45      49  ...               65     45  #78C850  #A040A0  #81A763     monster       plant   \n",
      "1   2     ivysaur           2     1.0    13.0              142  grass  poison  60      62  ...               80     60  #78C850  #A040A0  #81A763     monster       plant   \n",
      "2   3    venusaur           3     2.0   100.0              236  grass  poison  80      82  ...              100     80  #78C850  #A040A0  #81A763     monster       plant   \n",
      "3   4  charmander           4     0.6     8.5               62   fire     NaN  39      52  ...               50     65  #F08030      NaN      NaN     monster      dragon   \n",
      "4   5  charmeleon           5     1.1    19.0              142   fire     NaN  58      64  ...               65     80  #F08030      NaN      NaN     monster      dragon   \n",
      "\n",
      "                                            url_icon generation_id                                          url_image  \n",
      "0  //archives.bulbagarden.net/media/upload/7/7b/0...           1.0  https://raw.githubusercontent.com/HybridShivam...  \n",
      "1  //archives.bulbagarden.net/media/upload/a/a0/0...           1.0  https://raw.githubusercontent.com/HybridShivam...  \n",
      "2  //archives.bulbagarden.net/media/upload/0/07/0...           1.0  https://raw.githubusercontent.com/HybridShivam...  \n",
      "3  //archives.bulbagarden.net/media/upload/7/7d/0...           1.0  https://raw.githubusercontent.com/HybridShivam...  \n",
      "4  //archives.bulbagarden.net/media/upload/b/be/0...           1.0  https://raw.githubusercontent.com/HybridShivam...  \n",
      "\n",
      "[5 rows x 22 columns]\n"
     ]
    }
   ],
   "source": [
    "import pandas as pd\n",
    "\n",
    "df = pd.read_csv(\"pokemon_df.csv\", encoding='latin-1')\n",
    "print(df.head())"
   ]
  },
  {
   "cell_type": "markdown",
   "metadata": {},
   "source": [
    "Using the `great_tables` library, let's format the relevant output nicely."
   ]
  },
  {
   "cell_type": "code",
   "execution_count": 7,
   "metadata": {},
   "outputs": [
    {
     "data": {
      "text/html": [
       "<!DOCTYPE html>\n",
       "<html lang=\"en\">\n",
       "<head>\n",
       "<meta charset=\"utf-8\"/>\n",
       "</head>\n",
       "<body>\n",
       "<div id=\"gixmuyrbyt\" style=\"padding-left:0px;padding-right:0px;padding-top:10px;padding-bottom:10px;overflow-x:auto;overflow-y:auto;width:auto;height:auto;\">\n",
       "<style>\n",
       "#gixmuyrbyt table {\n",
       "          font-family: -apple-system, BlinkMacSystemFont, 'Segoe UI', Roboto, Oxygen, Ubuntu, Cantarell, 'Helvetica Neue', 'Fira Sans', 'Droid Sans', Arial, sans-serif;\n",
       "          -webkit-font-smoothing: antialiased;\n",
       "          -moz-osx-font-smoothing: grayscale;\n",
       "        }\n",
       "\n",
       "#gixmuyrbyt thead, tbody, tfoot, tr, td, th { border-style: none !important; }\n",
       " tr { background-color: transparent !important; }\n",
       "#gixmuyrbyt p { margin: 0 !important; padding: 0 !important; }\n",
       " #gixmuyrbyt .gt_table { display: table !important; border-collapse: collapse !important; line-height: normal !important; margin-left: auto !important; margin-right: auto !important; color: #333333 !important; font-size: 16px !important; font-weight: normal !important; font-style: normal !important; background-color: #FFFFFF !important; width: auto !important; border-top-style: solid !important; border-top-width: 2px !important; border-top-color: #A8A8A8 !important; border-right-style: none !important; border-right-width: 2px !important; border-right-color: #D3D3D3 !important; border-bottom-style: solid !important; border-bottom-width: 2px !important; border-bottom-color: #A8A8A8 !important; border-left-style: none !important; border-left-width: 2px !important; border-left-color: #D3D3D3 !important; }\n",
       " #gixmuyrbyt .gt_caption { padding-top: 4px !important; padding-bottom: 4px !important; }\n",
       " #gixmuyrbyt .gt_title { color: #333333 !important; font-size: 125% !important; font-weight: initial !important; padding-top: 4px !important; padding-bottom: 4px !important; padding-left: 5px !important; padding-right: 5px !important; border-bottom-color: #FFFFFF !important; border-bottom-width: 0 !important; }\n",
       " #gixmuyrbyt .gt_subtitle { color: #333333 !important; font-size: 85% !important; font-weight: initial !important; padding-top: 3px !important; padding-bottom: 5px !important; padding-left: 5px !important; padding-right: 5px !important; border-top-color: #FFFFFF !important; border-top-width: 0 !important; }\n",
       " #gixmuyrbyt .gt_heading { background-color: #FFFFFF !important; text-align: center !important; border-bottom-color: #FFFFFF !important; border-left-style: none !important; border-left-width: 1px !important; border-left-color: #D3D3D3 !important; border-right-style: none !important; border-right-width: 1px !important; border-right-color: #D3D3D3 !important; }\n",
       " #gixmuyrbyt .gt_bottom_border { border-bottom-style: solid !important; border-bottom-width: 2px !important; border-bottom-color: #D3D3D3 !important; }\n",
       " #gixmuyrbyt .gt_col_headings { border-top-style: solid !important; border-top-width: 2px !important; border-top-color: #D3D3D3 !important; border-bottom-style: solid !important; border-bottom-width: 2px !important; border-bottom-color: #D3D3D3 !important; border-left-style: none !important; border-left-width: 1px !important; border-left-color: #D3D3D3 !important; border-right-style: none !important; border-right-width: 1px !important; border-right-color: #D3D3D3 !important; }\n",
       " #gixmuyrbyt .gt_col_heading { color: #333333 !important; background-color: #FFFFFF !important; font-size: 100% !important; font-weight: normal !important; text-transform: inherit !important; border-left-style: none !important; border-left-width: 1px !important; border-left-color: #D3D3D3 !important; border-right-style: none !important; border-right-width: 1px !important; border-right-color: #D3D3D3 !important; vertical-align: bottom !important; padding-top: 5px !important; padding-bottom: 5px !important; padding-left: 5px !important; padding-right: 5px !important; overflow-x: hidden !important; }\n",
       " #gixmuyrbyt .gt_column_spanner_outer { color: #333333 !important; background-color: #FFFFFF !important; font-size: 100% !important; font-weight: normal !important; text-transform: inherit !important; padding-top: 0 !important; padding-bottom: 0 !important; padding-left: 4px !important; padding-right: 4px !important; }\n",
       " #gixmuyrbyt .gt_column_spanner_outer:first-child { padding-left: 0 !important; }\n",
       " #gixmuyrbyt .gt_column_spanner_outer:last-child { padding-right: 0 !important; }\n",
       " #gixmuyrbyt .gt_column_spanner { border-bottom-style: solid !important; border-bottom-width: 2px !important; border-bottom-color: #D3D3D3 !important; vertical-align: bottom !important; padding-top: 5px !important; padding-bottom: 5px !important; overflow-x: hidden !important; display: inline-block !important; width: 100% !important; }\n",
       " #gixmuyrbyt .gt_spanner_row { border-bottom-style: hidden !important; }\n",
       " #gixmuyrbyt .gt_group_heading { padding-top: 8px !important; padding-bottom: 8px !important; padding-left: 5px !important; padding-right: 5px !important; color: #333333 !important; background-color: #FFFFFF !important; font-size: 100% !important; font-weight: initial !important; text-transform: inherit !important; border-top-style: solid !important; border-top-width: 2px !important; border-top-color: #D3D3D3 !important; border-bottom-style: solid !important; border-bottom-width: 2px !important; border-bottom-color: #D3D3D3 !important; border-left-style: none !important; border-left-width: 1px !important; border-left-color: #D3D3D3 !important; border-right-style: none !important; border-right-width: 1px !important; border-right-color: #D3D3D3 !important; vertical-align: middle !important; text-align: left !important; }\n",
       " #gixmuyrbyt .gt_empty_group_heading { padding: 0.5px !important; color: #333333 !important; background-color: #FFFFFF !important; font-size: 100% !important; font-weight: initial !important; border-top-style: solid !important; border-top-width: 2px !important; border-top-color: #D3D3D3 !important; border-bottom-style: solid !important; border-bottom-width: 2px !important; border-bottom-color: #D3D3D3 !important; vertical-align: middle !important; }\n",
       " #gixmuyrbyt .gt_from_md> :first-child { margin-top: 0 !important; }\n",
       " #gixmuyrbyt .gt_from_md> :last-child { margin-bottom: 0 !important; }\n",
       " #gixmuyrbyt .gt_row { padding-top: 8px !important; padding-bottom: 8px !important; padding-left: 5px !important; padding-right: 5px !important; margin: 10px !important; border-top-style: solid !important; border-top-width: 1px !important; border-top-color: #D3D3D3 !important; border-left-style: none !important; border-left-width: 1px !important; border-left-color: #D3D3D3 !important; border-right-style: none !important; border-right-width: 1px !important; border-right-color: #D3D3D3 !important; vertical-align: middle !important; overflow-x: hidden !important; }\n",
       " #gixmuyrbyt .gt_stub { color: #333333 !important; background-color: #FFFFFF !important; font-size: 100% !important; font-weight: initial !important; text-transform: inherit !important; border-right-style: solid !important; border-right-width: 2px !important; border-right-color: #D3D3D3 !important; padding-left: 5px !important; padding-right: 5px !important; }\n",
       " #gixmuyrbyt .gt_stub_row_group { color: #333333 !important; background-color: #FFFFFF !important; font-size: 100% !important; font-weight: initial !important; text-transform: inherit !important; border-right-style: solid !important; border-right-width: 2px !important; border-right-color: #D3D3D3 !important; padding-left: 5px !important; padding-right: 5px !important; vertical-align: top !important; }\n",
       " #gixmuyrbyt .gt_row_group_first td { border-top-width: 2px !important; }\n",
       " #gixmuyrbyt .gt_row_group_first th { border-top-width: 2px !important; }\n",
       " #gixmuyrbyt .gt_striped { background-color: rgba(128,128,128,0.05) !important; }\n",
       " #gixmuyrbyt .gt_table_body { border-top-style: solid !important; border-top-width: 2px !important; border-top-color: #D3D3D3 !important; border-bottom-style: solid !important; border-bottom-width: 2px !important; border-bottom-color: #D3D3D3 !important; }\n",
       " #gixmuyrbyt .gt_sourcenotes { color: #333333 !important; background-color: #FFFFFF !important; border-bottom-style: none !important; border-bottom-width: 2px !important; border-bottom-color: #D3D3D3 !important; border-left-style: none !important; border-left-width: 2px !important; border-left-color: #D3D3D3 !important; border-right-style: none !important; border-right-width: 2px !important; border-right-color: #D3D3D3 !important; }\n",
       " #gixmuyrbyt .gt_sourcenote { font-size: 90% !important; padding-top: 4px !important; padding-bottom: 4px !important; padding-left: 5px !important; padding-right: 5px !important; text-align: left !important; }\n",
       " #gixmuyrbyt .gt_left { text-align: left !important; }\n",
       " #gixmuyrbyt .gt_center { text-align: center !important; }\n",
       " #gixmuyrbyt .gt_right { text-align: right !important; font-variant-numeric: tabular-nums !important; }\n",
       " #gixmuyrbyt .gt_font_normal { font-weight: normal !important; }\n",
       " #gixmuyrbyt .gt_font_bold { font-weight: bold !important; }\n",
       " #gixmuyrbyt .gt_font_italic { font-style: italic !important; }\n",
       " #gixmuyrbyt .gt_super { font-size: 65% !important; }\n",
       " #gixmuyrbyt .gt_footnote_marks { font-size: 75% !important; vertical-align: 0.4em !important; position: initial !important; }\n",
       " #gixmuyrbyt .gt_asterisk { font-size: 100% !important; vertical-align: 0 !important; }\n",
       " \n",
       "</style>\n",
       "<table class=\"gt_table\" data-quarto-disable-processing=\"false\" data-quarto-bootstrap=\"false\">\n",
       "<thead>\n",
       "\n",
       "  <tr class=\"gt_heading\">\n",
       "    <td colspan=\"18\" class=\"gt_heading gt_title gt_font_normal\">Pokemon Details</td>\n",
       "  </tr>\n",
       "<tr class=\"gt_col_headings\">\n",
       "  <th class=\"gt_col_heading gt_columns_bottom_border gt_right\" rowspan=\"1\" colspan=\"1\" scope=\"col\" id=\"id\">id</th>\n",
       "  <th class=\"gt_col_heading gt_columns_bottom_border gt_left\" rowspan=\"1\" colspan=\"1\" scope=\"col\" id=\"pokemon\">pokemon</th>\n",
       "  <th class=\"gt_col_heading gt_columns_bottom_border gt_right\" rowspan=\"1\" colspan=\"1\" scope=\"col\" id=\"species_id\">species_id</th>\n",
       "  <th class=\"gt_col_heading gt_columns_bottom_border gt_right\" rowspan=\"1\" colspan=\"1\" scope=\"col\" id=\"height\">height</th>\n",
       "  <th class=\"gt_col_heading gt_columns_bottom_border gt_right\" rowspan=\"1\" colspan=\"1\" scope=\"col\" id=\"weight\">weight</th>\n",
       "  <th class=\"gt_col_heading gt_columns_bottom_border gt_right\" rowspan=\"1\" colspan=\"1\" scope=\"col\" id=\"base_experience\">base_experience</th>\n",
       "  <th class=\"gt_col_heading gt_columns_bottom_border gt_left\" rowspan=\"1\" colspan=\"1\" scope=\"col\" id=\"type_1\">type_1</th>\n",
       "  <th class=\"gt_col_heading gt_columns_bottom_border gt_left\" rowspan=\"1\" colspan=\"1\" scope=\"col\" id=\"type_2\">type_2</th>\n",
       "  <th class=\"gt_col_heading gt_columns_bottom_border gt_right\" rowspan=\"1\" colspan=\"1\" scope=\"col\" id=\"hp\">hp</th>\n",
       "  <th class=\"gt_col_heading gt_columns_bottom_border gt_right\" rowspan=\"1\" colspan=\"1\" scope=\"col\" id=\"attack\">attack</th>\n",
       "  <th class=\"gt_col_heading gt_columns_bottom_border gt_right\" rowspan=\"1\" colspan=\"1\" scope=\"col\" id=\"defense\">defense</th>\n",
       "  <th class=\"gt_col_heading gt_columns_bottom_border gt_right\" rowspan=\"1\" colspan=\"1\" scope=\"col\" id=\"special_attack\">special_attack</th>\n",
       "  <th class=\"gt_col_heading gt_columns_bottom_border gt_right\" rowspan=\"1\" colspan=\"1\" scope=\"col\" id=\"special_defense\">special_defense</th>\n",
       "  <th class=\"gt_col_heading gt_columns_bottom_border gt_right\" rowspan=\"1\" colspan=\"1\" scope=\"col\" id=\"speed\">speed</th>\n",
       "  <th class=\"gt_col_heading gt_columns_bottom_border gt_left\" rowspan=\"1\" colspan=\"1\" scope=\"col\" id=\"color_1\">color_1</th>\n",
       "  <th class=\"gt_col_heading gt_columns_bottom_border gt_left\" rowspan=\"1\" colspan=\"1\" scope=\"col\" id=\"color_2\">color_2</th>\n",
       "  <th class=\"gt_col_heading gt_columns_bottom_border gt_left\" rowspan=\"1\" colspan=\"1\" scope=\"col\" id=\"color_f\">color_f</th>\n",
       "  <th class=\"gt_col_heading gt_columns_bottom_border gt_right\" rowspan=\"1\" colspan=\"1\" scope=\"col\" id=\"generation_id\">generation_id</th>\n",
       "</tr>\n",
       "</thead>\n",
       "<tbody class=\"gt_table_body\">\n",
       "  <tr>\n",
       "    <td class=\"gt_row gt_right\">1</td>\n",
       "    <td class=\"gt_row gt_left\">bulbasaur</td>\n",
       "    <td class=\"gt_row gt_right\">1</td>\n",
       "    <td class=\"gt_row gt_right\">0.7</td>\n",
       "    <td class=\"gt_row gt_right\">6.9</td>\n",
       "    <td class=\"gt_row gt_right\">64</td>\n",
       "    <td class=\"gt_row gt_left\">grass</td>\n",
       "    <td class=\"gt_row gt_left\">poison</td>\n",
       "    <td class=\"gt_row gt_right\">45</td>\n",
       "    <td class=\"gt_row gt_right\">49</td>\n",
       "    <td class=\"gt_row gt_right\">49</td>\n",
       "    <td class=\"gt_row gt_right\">65</td>\n",
       "    <td class=\"gt_row gt_right\">65</td>\n",
       "    <td class=\"gt_row gt_right\">45</td>\n",
       "    <td class=\"gt_row gt_left\">#78C850</td>\n",
       "    <td class=\"gt_row gt_left\">#A040A0</td>\n",
       "    <td class=\"gt_row gt_left\">#81A763</td>\n",
       "    <td class=\"gt_row gt_right\">1.0</td>\n",
       "  </tr>\n",
       "  <tr>\n",
       "    <td class=\"gt_row gt_right\">2</td>\n",
       "    <td class=\"gt_row gt_left\">ivysaur</td>\n",
       "    <td class=\"gt_row gt_right\">2</td>\n",
       "    <td class=\"gt_row gt_right\">1.0</td>\n",
       "    <td class=\"gt_row gt_right\">13.0</td>\n",
       "    <td class=\"gt_row gt_right\">142</td>\n",
       "    <td class=\"gt_row gt_left\">grass</td>\n",
       "    <td class=\"gt_row gt_left\">poison</td>\n",
       "    <td class=\"gt_row gt_right\">60</td>\n",
       "    <td class=\"gt_row gt_right\">62</td>\n",
       "    <td class=\"gt_row gt_right\">63</td>\n",
       "    <td class=\"gt_row gt_right\">80</td>\n",
       "    <td class=\"gt_row gt_right\">80</td>\n",
       "    <td class=\"gt_row gt_right\">60</td>\n",
       "    <td class=\"gt_row gt_left\">#78C850</td>\n",
       "    <td class=\"gt_row gt_left\">#A040A0</td>\n",
       "    <td class=\"gt_row gt_left\">#81A763</td>\n",
       "    <td class=\"gt_row gt_right\">1.0</td>\n",
       "  </tr>\n",
       "  <tr>\n",
       "    <td class=\"gt_row gt_right\">3</td>\n",
       "    <td class=\"gt_row gt_left\">venusaur</td>\n",
       "    <td class=\"gt_row gt_right\">3</td>\n",
       "    <td class=\"gt_row gt_right\">2.0</td>\n",
       "    <td class=\"gt_row gt_right\">100.0</td>\n",
       "    <td class=\"gt_row gt_right\">236</td>\n",
       "    <td class=\"gt_row gt_left\">grass</td>\n",
       "    <td class=\"gt_row gt_left\">poison</td>\n",
       "    <td class=\"gt_row gt_right\">80</td>\n",
       "    <td class=\"gt_row gt_right\">82</td>\n",
       "    <td class=\"gt_row gt_right\">83</td>\n",
       "    <td class=\"gt_row gt_right\">100</td>\n",
       "    <td class=\"gt_row gt_right\">100</td>\n",
       "    <td class=\"gt_row gt_right\">80</td>\n",
       "    <td class=\"gt_row gt_left\">#78C850</td>\n",
       "    <td class=\"gt_row gt_left\">#A040A0</td>\n",
       "    <td class=\"gt_row gt_left\">#81A763</td>\n",
       "    <td class=\"gt_row gt_right\">1.0</td>\n",
       "  </tr>\n",
       "  <tr>\n",
       "    <td class=\"gt_row gt_right\">4</td>\n",
       "    <td class=\"gt_row gt_left\">charmander</td>\n",
       "    <td class=\"gt_row gt_right\">4</td>\n",
       "    <td class=\"gt_row gt_right\">0.6</td>\n",
       "    <td class=\"gt_row gt_right\">8.5</td>\n",
       "    <td class=\"gt_row gt_right\">62</td>\n",
       "    <td class=\"gt_row gt_left\">fire</td>\n",
       "    <td class=\"gt_row gt_left\"><NA></td>\n",
       "    <td class=\"gt_row gt_right\">39</td>\n",
       "    <td class=\"gt_row gt_right\">52</td>\n",
       "    <td class=\"gt_row gt_right\">43</td>\n",
       "    <td class=\"gt_row gt_right\">60</td>\n",
       "    <td class=\"gt_row gt_right\">50</td>\n",
       "    <td class=\"gt_row gt_right\">65</td>\n",
       "    <td class=\"gt_row gt_left\">#F08030</td>\n",
       "    <td class=\"gt_row gt_left\"><NA></td>\n",
       "    <td class=\"gt_row gt_left\"><NA></td>\n",
       "    <td class=\"gt_row gt_right\">1.0</td>\n",
       "  </tr>\n",
       "  <tr>\n",
       "    <td class=\"gt_row gt_right\">5</td>\n",
       "    <td class=\"gt_row gt_left\">charmeleon</td>\n",
       "    <td class=\"gt_row gt_right\">5</td>\n",
       "    <td class=\"gt_row gt_right\">1.1</td>\n",
       "    <td class=\"gt_row gt_right\">19.0</td>\n",
       "    <td class=\"gt_row gt_right\">142</td>\n",
       "    <td class=\"gt_row gt_left\">fire</td>\n",
       "    <td class=\"gt_row gt_left\"><NA></td>\n",
       "    <td class=\"gt_row gt_right\">58</td>\n",
       "    <td class=\"gt_row gt_right\">64</td>\n",
       "    <td class=\"gt_row gt_right\">58</td>\n",
       "    <td class=\"gt_row gt_right\">80</td>\n",
       "    <td class=\"gt_row gt_right\">65</td>\n",
       "    <td class=\"gt_row gt_right\">80</td>\n",
       "    <td class=\"gt_row gt_left\">#F08030</td>\n",
       "    <td class=\"gt_row gt_left\"><NA></td>\n",
       "    <td class=\"gt_row gt_left\"><NA></td>\n",
       "    <td class=\"gt_row gt_right\">1.0</td>\n",
       "  </tr>\n",
       "</tbody>\n",
       "\n",
       "\n",
       "</table>\n",
       "\n",
       "</div>\n",
       "        \n",
       "</body>\n",
       "</html>\n",
       "            "
      ],
      "text/plain": [
       "GT(_tbl_data=   id     pokemon  species_id  height  weight  base_experience type_1  type_2  hp  attack  ...  special_defense  speed  color_1  color_2  color_f egg_group_1 egg_group_2  \\\n",
       "0   1   bulbasaur           1     0.7     6.9               64  grass  poison  45      49  ...               65     45  #78C850  #A040A0  #81A763     monster       plant   \n",
       "1   2     ivysaur           2     1.0    13.0              142  grass  poison  60      62  ...               80     60  #78C850  #A040A0  #81A763     monster       plant   \n",
       "2   3    venusaur           3     2.0   100.0              236  grass  poison  80      82  ...              100     80  #78C850  #A040A0  #81A763     monster       plant   \n",
       "3   4  charmander           4     0.6     8.5               62   fire     NaN  39      52  ...               50     65  #F08030      NaN      NaN     monster      dragon   \n",
       "4   5  charmeleon           5     1.1    19.0              142   fire     NaN  58      64  ...               65     80  #F08030      NaN      NaN     monster      dragon   \n",
       "\n",
       "                                            url_icon generation_id                                          url_image  \n",
       "0  //archives.bulbagarden.net/media/upload/7/7b/0...           1.0  https://raw.githubusercontent.com/HybridShivam...  \n",
       "1  //archives.bulbagarden.net/media/upload/a/a0/0...           1.0  https://raw.githubusercontent.com/HybridShivam...  \n",
       "2  //archives.bulbagarden.net/media/upload/0/07/0...           1.0  https://raw.githubusercontent.com/HybridShivam...  \n",
       "3  //archives.bulbagarden.net/media/upload/7/7d/0...           1.0  https://raw.githubusercontent.com/HybridShivam...  \n",
       "4  //archives.bulbagarden.net/media/upload/b/be/0...           1.0  https://raw.githubusercontent.com/HybridShivam...  \n",
       "\n",
       "[5 rows x 22 columns], _body=<great_tables._gt_data.Body object at 0x14d3e3770>, _boxhead=Boxhead([ColInfo(var='id', type=<ColInfoTypeEnum.default: 1>, column_label='id', column_align='right', column_width=None), ColInfo(var='pokemon', type=<ColInfoTypeEnum.default: 1>, column_label='pokemon', column_align='left', column_width=None), ColInfo(var='species_id', type=<ColInfoTypeEnum.default: 1>, column_label='species_id', column_align='right', column_width=None), ColInfo(var='height', type=<ColInfoTypeEnum.default: 1>, column_label='height', column_align='right', column_width=None), ColInfo(var='weight', type=<ColInfoTypeEnum.default: 1>, column_label='weight', column_align='right', column_width=None), ColInfo(var='base_experience', type=<ColInfoTypeEnum.default: 1>, column_label='base_experience', column_align='right', column_width=None), ColInfo(var='type_1', type=<ColInfoTypeEnum.default: 1>, column_label='type_1', column_align='left', column_width=None), ColInfo(var='type_2', type=<ColInfoTypeEnum.default: 1>, column_label='type_2', column_align='left', column_width=None), ColInfo(var='hp', type=<ColInfoTypeEnum.default: 1>, column_label='hp', column_align='right', column_width=None), ColInfo(var='attack', type=<ColInfoTypeEnum.default: 1>, column_label='attack', column_align='right', column_width=None), ColInfo(var='defense', type=<ColInfoTypeEnum.default: 1>, column_label='defense', column_align='right', column_width=None), ColInfo(var='special_attack', type=<ColInfoTypeEnum.default: 1>, column_label='special_attack', column_align='right', column_width=None), ColInfo(var='special_defense', type=<ColInfoTypeEnum.default: 1>, column_label='special_defense', column_align='right', column_width=None), ColInfo(var='speed', type=<ColInfoTypeEnum.default: 1>, column_label='speed', column_align='right', column_width=None), ColInfo(var='color_1', type=<ColInfoTypeEnum.default: 1>, column_label='color_1', column_align='left', column_width=None), ColInfo(var='color_2', type=<ColInfoTypeEnum.default: 1>, column_label='color_2', column_align='left', column_width=None), ColInfo(var='color_f', type=<ColInfoTypeEnum.default: 1>, column_label='color_f', column_align='left', column_width=None), ColInfo(var='egg_group_1', type=<ColInfoTypeEnum.hidden: 4>, column_label='egg_group_1', column_align='left', column_width=None), ColInfo(var='egg_group_2', type=<ColInfoTypeEnum.hidden: 4>, column_label='egg_group_2', column_align='left', column_width=None), ColInfo(var='url_icon', type=<ColInfoTypeEnum.hidden: 4>, column_label='url_icon', column_align='left', column_width=None), ColInfo(var='generation_id', type=<ColInfoTypeEnum.default: 1>, column_label='generation_id', column_align='right', column_width=None), ColInfo(var='url_image', type=<ColInfoTypeEnum.hidden: 4>, column_label='url_image', column_align='left', column_width=None)]), _stub=<great_tables._gt_data.Stub object at 0x14d3e34d0>, _spanners=Spanners([]), _heading=Heading(title='Pokemon Details', subtitle=None, preheader=None), _stubhead=None, _source_notes=[], _footnotes=[], _styles=[], _locale=<great_tables._gt_data.Locale object at 0x14d3e3b60>, _formats=[], _substitutions=[], _options=Options(table_id=OptionsInfo(scss=False, category='table', type='value', value=None), table_caption=OptionsInfo(scss=False, category='table', type='value', value=None), table_width=OptionsInfo(scss=True, category='table', type='px', value='auto'), table_layout=OptionsInfo(scss=True, category='table', type='value', value='fixed'), table_margin_left=OptionsInfo(scss=True, category='table', type='px', value='auto'), table_margin_right=OptionsInfo(scss=True, category='table', type='px', value='auto'), table_background_color=OptionsInfo(scss=True, category='table', type='value', value='#FFFFFF'), table_additional_css=OptionsInfo(scss=False, category='table', type='values', value=[]), table_font_names=OptionsInfo(scss=False, category='table', type='values', value=['-apple-system', 'BlinkMacSystemFont', 'Segoe UI', 'Roboto', 'Oxygen', 'Ubuntu', 'Cantarell', 'Helvetica Neue', 'Fira Sans', 'Droid Sans', 'Arial', 'sans-serif']), table_font_size=OptionsInfo(scss=True, category='table', type='px', value='16px'), table_font_weight=OptionsInfo(scss=True, category='table', type='value', value='normal'), table_font_style=OptionsInfo(scss=True, category='table', type='value', value='normal'), table_font_color=OptionsInfo(scss=True, category='table', type='value', value='#333333'), table_font_color_light=OptionsInfo(scss=True, category='table', type='value', value='#FFFFFF'), table_border_top_include=OptionsInfo(scss=False, category='table', type='boolean', value=True), table_border_top_style=OptionsInfo(scss=True, category='table', type='value', value='solid'), table_border_top_width=OptionsInfo(scss=True, category='table', type='px', value='2px'), table_border_top_color=OptionsInfo(scss=True, category='table', type='value', value='#A8A8A8'), table_border_right_style=OptionsInfo(scss=True, category='table', type='value', value='none'), table_border_right_width=OptionsInfo(scss=True, category='table', type='px', value='2px'), table_border_right_color=OptionsInfo(scss=True, category='table', type='value', value='#D3D3D3'), table_border_bottom_include=OptionsInfo(scss=False, category='table', type='boolean', value=True), table_border_bottom_style=OptionsInfo(scss=True, category='table', type='value', value='solid'), table_border_bottom_width=OptionsInfo(scss=True, category='table', type='px', value='2px'), table_border_bottom_color=OptionsInfo(scss=True, category='table', type='value', value='#A8A8A8'), table_border_left_style=OptionsInfo(scss=True, category='table', type='value', value='none'), table_border_left_width=OptionsInfo(scss=True, category='table', type='px', value='2px'), table_border_left_color=OptionsInfo(scss=True, category='table', type='value', value='#D3D3D3'), heading_background_color=OptionsInfo(scss=True, category='heading', type='value', value=None), heading_align=OptionsInfo(scss=True, category='heading', type='value', value='center'), heading_title_font_size=OptionsInfo(scss=True, category='heading', type='px', value='125%'), heading_title_font_weight=OptionsInfo(scss=True, category='heading', type='value', value='initial'), heading_subtitle_font_size=OptionsInfo(scss=True, category='heading', type='px', value='85%'), heading_subtitle_font_weight=OptionsInfo(scss=True, category='heading', type='value', value='initial'), heading_padding=OptionsInfo(scss=True, category='heading', type='px', value='4px'), heading_padding_horizontal=OptionsInfo(scss=True, category='heading', type='px', value='5px'), heading_border_bottom_style=OptionsInfo(scss=True, category='heading', type='value', value='solid'), heading_border_bottom_width=OptionsInfo(scss=True, category='heading', type='px', value='2px'), heading_border_bottom_color=OptionsInfo(scss=True, category='heading', type='value', value='#D3D3D3'), heading_border_lr_style=OptionsInfo(scss=True, category='heading', type='value', value='none'), heading_border_lr_width=OptionsInfo(scss=True, category='heading', type='px', value='1px'), heading_border_lr_color=OptionsInfo(scss=True, category='heading', type='value', value='#D3D3D3'), column_labels_background_color=OptionsInfo(scss=True, category='column_labels', type='value', value=None), column_labels_font_size=OptionsInfo(scss=True, category='column_labels', type='px', value='100%'), column_labels_font_weight=OptionsInfo(scss=True, category='column_labels', type='value', value='normal'), column_labels_text_transform=OptionsInfo(scss=True, category='column_labels', type='value', value='inherit'), column_labels_padding=OptionsInfo(scss=True, category='column_labels', type='px', value='5px'), column_labels_padding_horizontal=OptionsInfo(scss=True, category='column_labels', type='px', value='5px'), column_labels_vlines_style=OptionsInfo(scss=True, category='table_body', type='value', value='none'), column_labels_vlines_width=OptionsInfo(scss=True, category='table_body', type='px', value='1px'), column_labels_vlines_color=OptionsInfo(scss=True, category='table_body', type='value', value='#D3D3D3'), column_labels_border_top_style=OptionsInfo(scss=True, category='column_labels', type='value', value='solid'), column_labels_border_top_width=OptionsInfo(scss=True, category='column_labels', type='px', value='2px'), column_labels_border_top_color=OptionsInfo(scss=True, category='column_labels', type='value', value='#D3D3D3'), column_labels_border_bottom_style=OptionsInfo(scss=True, category='column_labels', type='value', value='solid'), column_labels_border_bottom_width=OptionsInfo(scss=True, category='column_labels', type='px', value='2px'), column_labels_border_bottom_color=OptionsInfo(scss=True, category='column_labels', type='value', value='#D3D3D3'), column_labels_border_lr_style=OptionsInfo(scss=True, category='column_labels', type='value', value='none'), column_labels_border_lr_width=OptionsInfo(scss=True, category='column_labels', type='px', value='1px'), column_labels_border_lr_color=OptionsInfo(scss=True, category='column_labels', type='value', value='#D3D3D3'), column_labels_hidden=OptionsInfo(scss=False, category='column_labels', type='boolean', value=False), row_group_background_color=OptionsInfo(scss=True, category='row_group', type='value', value=None), row_group_font_size=OptionsInfo(scss=True, category='row_group', type='px', value='100%'), row_group_font_weight=OptionsInfo(scss=True, category='row_group', type='value', value='initial'), row_group_text_transform=OptionsInfo(scss=True, category='row_group', type='value', value='inherit'), row_group_padding=OptionsInfo(scss=True, category='row_group', type='px', value='8px'), row_group_padding_horizontal=OptionsInfo(scss=True, category='row_group', type='px', value='5px'), row_group_border_top_style=OptionsInfo(scss=True, category='row_group', type='value', value='solid'), row_group_border_top_width=OptionsInfo(scss=True, category='row_group', type='px', value='2px'), row_group_border_top_color=OptionsInfo(scss=True, category='row_group', type='value', value='#D3D3D3'), row_group_border_right_style=OptionsInfo(scss=True, category='row_group', type='value', value='none'), row_group_border_right_width=OptionsInfo(scss=True, category='row_group', type='px', value='1px'), row_group_border_right_color=OptionsInfo(scss=True, category='row_group', type='value', value='#D3D3D3'), row_group_border_bottom_style=OptionsInfo(scss=True, category='row_group', type='value', value='solid'), row_group_border_bottom_width=OptionsInfo(scss=True, category='row_group', type='px', value='2px'), row_group_border_bottom_color=OptionsInfo(scss=True, category='row_group', type='value', value='#D3D3D3'), row_group_border_left_style=OptionsInfo(scss=True, category='row_group', type='value', value='none'), row_group_border_left_width=OptionsInfo(scss=True, category='row_group', type='px', value='1px'), row_group_border_left_color=OptionsInfo(scss=True, category='row_group', type='value', value='#D3D3D3'), row_group_as_column=OptionsInfo(scss=False, category='row_group', type='boolean', value=False), table_body_hlines_style=OptionsInfo(scss=True, category='table_body', type='value', value='solid'), table_body_hlines_width=OptionsInfo(scss=True, category='table_body', type='px', value='1px'), table_body_hlines_color=OptionsInfo(scss=True, category='table_body', type='value', value='#D3D3D3'), table_body_vlines_style=OptionsInfo(scss=True, category='table_body', type='value', value='none'), table_body_vlines_width=OptionsInfo(scss=True, category='table_body', type='px', value='1px'), table_body_vlines_color=OptionsInfo(scss=True, category='table_body', type='value', value='#D3D3D3'), table_body_border_top_style=OptionsInfo(scss=True, category='table_body', type='value', value='solid'), table_body_border_top_width=OptionsInfo(scss=True, category='table_body', type='px', value='2px'), table_body_border_top_color=OptionsInfo(scss=True, category='table_body', type='value', value='#D3D3D3'), table_body_border_bottom_style=OptionsInfo(scss=True, category='table_body', type='value', value='solid'), table_body_border_bottom_width=OptionsInfo(scss=True, category='table_body', type='px', value='2px'), table_body_border_bottom_color=OptionsInfo(scss=True, category='table_body', type='value', value='#D3D3D3'), data_row_padding=OptionsInfo(scss=True, category='data_row', type='px', value='8px'), data_row_padding_horizontal=OptionsInfo(scss=True, category='data_row', type='px', value='5px'), stub_background_color=OptionsInfo(scss=True, category='stub', type='value', value=None), stub_font_size=OptionsInfo(scss=True, category='stub', type='px', value='100%'), stub_font_weight=OptionsInfo(scss=True, category='stub', type='value', value='initial'), stub_text_transform=OptionsInfo(scss=True, category='stub', type='value', value='inherit'), stub_border_style=OptionsInfo(scss=True, category='stub', type='value', value='solid'), stub_border_width=OptionsInfo(scss=True, category='stub', type='px', value='2px'), stub_border_color=OptionsInfo(scss=True, category='stub', type='value', value='#D3D3D3'), stub_row_group_background_color=OptionsInfo(scss=True, category='stub', type='value', value=None), stub_row_group_font_size=OptionsInfo(scss=True, category='stub', type='px', value='100%'), stub_row_group_font_weight=OptionsInfo(scss=True, category='stub', type='value', value='initial'), stub_row_group_text_transform=OptionsInfo(scss=True, category='stub', type='value', value='inherit'), stub_row_group_border_style=OptionsInfo(scss=True, category='stub', type='value', value='solid'), stub_row_group_border_width=OptionsInfo(scss=True, category='stub', type='px', value='2px'), stub_row_group_border_color=OptionsInfo(scss=True, category='stub', type='value', value='#D3D3D3'), source_notes_padding=OptionsInfo(scss=True, category='source_notes', type='px', value='4px'), source_notes_padding_horizontal=OptionsInfo(scss=True, category='source_notes', type='px', value='5px'), source_notes_background_color=OptionsInfo(scss=True, category='source_notes', type='value', value=None), source_notes_font_size=OptionsInfo(scss=True, category='source_notes', type='px', value='90%'), source_notes_border_bottom_style=OptionsInfo(scss=True, category='source_notes', type='value', value='none'), source_notes_border_bottom_width=OptionsInfo(scss=True, category='source_notes', type='px', value='2px'), source_notes_border_bottom_color=OptionsInfo(scss=True, category='source_notes', type='value', value='#D3D3D3'), source_notes_border_lr_style=OptionsInfo(scss=True, category='source_notes', type='value', value='none'), source_notes_border_lr_width=OptionsInfo(scss=True, category='source_notes', type='px', value='2px'), source_notes_border_lr_color=OptionsInfo(scss=True, category='source_notes', type='value', value='#D3D3D3'), source_notes_multiline=OptionsInfo(scss=False, category='source_notes', type='boolean', value=True), source_notes_sep=OptionsInfo(scss=False, category='source_notes', type='value', value=' '), row_striping_background_color=OptionsInfo(scss=True, category='row', type='value', value='rgba(128,128,128,0.05)'), row_striping_include_stub=OptionsInfo(scss=False, category='row', type='boolean', value=False), row_striping_include_table_body=OptionsInfo(scss=False, category='row', type='boolean', value=False), container_width=OptionsInfo(scss=False, category='container', type='px', value='auto'), container_height=OptionsInfo(scss=False, category='container', type='px', value='auto'), container_padding_x=OptionsInfo(scss=False, category='container', type='px', value='0px'), container_padding_y=OptionsInfo(scss=False, category='container', type='px', value='10px'), container_overflow_x=OptionsInfo(scss=False, category='container', type='overflow', value='auto'), container_overflow_y=OptionsInfo(scss=False, category='container', type='overflow', value='auto'), quarto_disable_processing=OptionsInfo(scss=False, category='quarto', type='logical', value=False), quarto_use_bootstrap=OptionsInfo(scss=False, category='quarto', type='logical', value=False)), _has_built=False)"
      ]
     },
     "execution_count": null,
     "metadata": {},
     "output_type": "execute_result"
    }
   ],
   "source": [
    "from great_tables import GT\n",
    "\n",
    "(\n",
    "    GT(df.head())\n",
    "    .tab_header(title=\"Pokemon Details\")\n",
    "    .cols_hide(columns=[\"url_icon\",\"primary_color\", \"url_image\", \"egg_group_1\", \"egg_group_2\"])\n",
    "\n",
    ")"
   ]
  },
  {
   "cell_type": "markdown",
   "metadata": {},
   "source": [
    "# Pokemon charaacteristics by type\n",
    "Let's look at how the height and weight of different pokemon vary across types 1 and 2. First, let's get some summary statistics."
   ]
  },
  {
   "cell_type": "code",
   "execution_count": 32,
   "metadata": {},
   "outputs": [
    {
     "name": "stdout",
     "output_type": "stream",
     "text": [
      "                   height                          weight                          \n",
      "                     mean       std  min  max        mean         std    min    max\n",
      "type_1 type_2                                                                      \n",
      "bug    electric  1.100000  0.982344  0.1  2.6   43.580000   60.415784    0.6  147.5\n",
      "       fairy     0.150000  0.070711  0.1  0.2    0.350000    0.212132    0.2    0.5\n",
      "       fighting  1.850000  0.387298  1.5  2.4  118.775000  144.113621   25.0  333.6\n",
      "       fire      1.350000  0.353553  1.1  1.6   37.400000   12.162237   28.8   46.0\n",
      "       flying    1.142857  0.405186  0.3  1.9   29.371429   18.295919    3.6   59.0\n",
      "...                   ...       ...  ...  ...         ...         ...    ...    ...\n",
      "water  ice       1.900000  0.529150  1.5  2.5  157.500000   54.486237  120.0  220.0\n",
      "       poison    1.000000  0.556776  0.5  1.6   34.800000   27.178484    3.9   55.0\n",
      "       psychic   1.466667  0.471876  0.9  2.0   68.833333   36.086932   19.0  120.0\n",
      "       rock      0.875000  0.275379  0.6  1.2   31.475000   33.877758    5.0   81.0\n",
      "       steel     1.700000       NaN  1.7  1.7   84.500000         NaN   84.5   84.5\n",
      "\n",
      "[155 rows x 8 columns]\n",
      "Index(['bug', 'dark', 'dragon', 'electric', 'fairy', 'fighting', 'fire', 'flying', 'ghost', 'grass', 'ground', 'ice', 'normal', 'poison', 'psychic', 'rock', 'steel', 'water'], dtype='object', name='type_1')\n"
     ]
    },
    {
     "ename": "KeyError",
     "evalue": "'Requested level (species_id) does not match index name (None)'",
     "output_type": "error",
     "traceback": [
      "\u001b[0;31m---------------------------------------------------------------------------\u001b[0m\n",
      "\u001b[0;31mKeyError\u001b[0m                                  Traceback (most recent call last)\n",
      "Cell \u001b[0;32mIn[32], line 12\u001b[0m\n",
      "\u001b[1;32m      9\u001b[0m \u001b[38;5;28mprint\u001b[39m(ht_wt_by_type)\n",
      "\u001b[1;32m     10\u001b[0m \u001b[38;5;28mprint\u001b[39m(ht_wt_by_type\u001b[38;5;241m.\u001b[39mindex\u001b[38;5;241m.\u001b[39mget_level_values(\u001b[38;5;124m'\u001b[39m\u001b[38;5;124mtype_1\u001b[39m\u001b[38;5;124m'\u001b[39m)\u001b[38;5;241m.\u001b[39munique())\n",
      "\u001b[0;32m---> 12\u001b[0m \u001b[38;5;28mprint\u001b[39m(\u001b[43mdf\u001b[49m\u001b[38;5;241;43m.\u001b[39;49m\u001b[43mindex\u001b[49m\u001b[38;5;241;43m.\u001b[39;49m\u001b[43mget_level_values\u001b[49m\u001b[43m(\u001b[49m\u001b[38;5;124;43m'\u001b[39;49m\u001b[38;5;124;43mspecies_id\u001b[39;49m\u001b[38;5;124;43m'\u001b[39;49m\u001b[43m)\u001b[49m\u001b[38;5;241m.\u001b[39munique())\n",
      "\n",
      "File \u001b[0;32m~/Library/CloudStorage/Dropbox/Mac/Documents/pydy-tuesday/.venv/lib/python3.13/site-packages/pandas/core/indexes/base.py:2102\u001b[0m, in \u001b[0;36mIndex._get_level_values\u001b[0;34m(self, level)\u001b[0m\n",
      "\u001b[1;32m   2066\u001b[0m \u001b[38;5;28;01mdef\u001b[39;00m\u001b[38;5;250m \u001b[39m\u001b[38;5;21m_get_level_values\u001b[39m(\u001b[38;5;28mself\u001b[39m, level) \u001b[38;5;241m-\u001b[39m\u001b[38;5;241m>\u001b[39m Index:\n",
      "\u001b[1;32m   2067\u001b[0m \u001b[38;5;250m    \u001b[39m\u001b[38;5;124;03m\"\"\"\u001b[39;00m\n",
      "\u001b[1;32m   2068\u001b[0m \u001b[38;5;124;03m    Return an Index of values for requested level.\u001b[39;00m\n",
      "\u001b[1;32m   2069\u001b[0m \n",
      "\u001b[0;32m   (...)\u001b[0m\n",
      "\u001b[1;32m   2100\u001b[0m \u001b[38;5;124;03m    Index(['a', 'b', 'c'], dtype='object')\u001b[39;00m\n",
      "\u001b[1;32m   2101\u001b[0m \u001b[38;5;124;03m    \"\"\"\u001b[39;00m\n",
      "\u001b[0;32m-> 2102\u001b[0m     \u001b[38;5;28;43mself\u001b[39;49m\u001b[38;5;241;43m.\u001b[39;49m\u001b[43m_validate_index_level\u001b[49m\u001b[43m(\u001b[49m\u001b[43mlevel\u001b[49m\u001b[43m)\u001b[49m\n",
      "\u001b[1;32m   2103\u001b[0m     \u001b[38;5;28;01mreturn\u001b[39;00m \u001b[38;5;28mself\u001b[39m\n",
      "\n",
      "File \u001b[0;32m~/Library/CloudStorage/Dropbox/Mac/Documents/pydy-tuesday/.venv/lib/python3.13/site-packages/pandas/core/indexes/base.py:2012\u001b[0m, in \u001b[0;36mIndex._validate_index_level\u001b[0;34m(self, level)\u001b[0m\n",
      "\u001b[1;32m   2008\u001b[0m         \u001b[38;5;28;01mraise\u001b[39;00m \u001b[38;5;167;01mIndexError\u001b[39;00m(\n",
      "\u001b[1;32m   2009\u001b[0m             \u001b[38;5;124mf\u001b[39m\u001b[38;5;124m\"\u001b[39m\u001b[38;5;124mToo many levels: Index has only 1 level, not \u001b[39m\u001b[38;5;132;01m{\u001b[39;00mlevel\u001b[38;5;250m \u001b[39m\u001b[38;5;241m+\u001b[39m\u001b[38;5;250m \u001b[39m\u001b[38;5;241m1\u001b[39m\u001b[38;5;132;01m}\u001b[39;00m\u001b[38;5;124m\"\u001b[39m\n",
      "\u001b[1;32m   2010\u001b[0m         )\n",
      "\u001b[1;32m   2011\u001b[0m \u001b[38;5;28;01melif\u001b[39;00m level \u001b[38;5;241m!=\u001b[39m \u001b[38;5;28mself\u001b[39m\u001b[38;5;241m.\u001b[39mname:\n",
      "\u001b[0;32m-> 2012\u001b[0m     \u001b[38;5;28;01mraise\u001b[39;00m \u001b[38;5;167;01mKeyError\u001b[39;00m(\n",
      "\u001b[1;32m   2013\u001b[0m         \u001b[38;5;124mf\u001b[39m\u001b[38;5;124m\"\u001b[39m\u001b[38;5;124mRequested level (\u001b[39m\u001b[38;5;132;01m{\u001b[39;00mlevel\u001b[38;5;132;01m}\u001b[39;00m\u001b[38;5;124m) does not match index name (\u001b[39m\u001b[38;5;132;01m{\u001b[39;00m\u001b[38;5;28mself\u001b[39m\u001b[38;5;241m.\u001b[39mname\u001b[38;5;132;01m}\u001b[39;00m\u001b[38;5;124m)\u001b[39m\u001b[38;5;124m\"\u001b[39m\n",
      "\u001b[1;32m   2014\u001b[0m     )\n",
      "\n",
      "\u001b[0;31mKeyError\u001b[0m: 'Requested level (species_id) does not match index name (None)'"
     ]
    }
   ],
   "source": [
    "import numpy as np\n",
    "\n",
    "# remove NA values\n",
    "df = df[['pokemon', 'height', 'weight', 'type_1', 'type_2']].dropna()\n",
    "\n",
    "# Summary stats by subfamily\n",
    "ht_wt_by_type = df.groupby(['type_1', 'type_2'])[['height', 'weight']].agg(['mean', 'std', 'min','max'])\n",
    "\n",
    "print(ht_wt_by_type)\n",
    "print(ht_wt_by_type.index.get_level_values('type_1').unique())"
   ]
  },
  {
   "cell_type": "markdown",
   "metadata": {},
   "source": [
    "There are a lot of types of pokemon, so let's just pick one to explore in more detail. We'll choose `water`. We'll filter our summary table to only show the results of pokemon whose primary type is water (`type_1 = water`)."
   ]
  },
  {
   "cell_type": "code",
   "execution_count": 19,
   "metadata": {},
   "outputs": [
    {
     "name": "stdout",
     "output_type": "stream",
     "text": [
      "                   height                          weight                          \n",
      "                     mean       std  min  max        mean         std    min    max\n",
      "type_1 type_2                                                                      \n",
      "water  bug       1.050000  1.060660  0.3  1.8   43.000000   55.154329    4.0   82.0\n",
      "       dark      2.150000  1.826785  0.8  6.5   87.212500   95.130624   20.8  305.0\n",
      "       dragon    3.000000  1.697056  1.8  4.2  244.000000  130.107648  152.0  336.0\n",
      "       electric  0.850000  0.494975  0.5  1.2   17.250000    7.424621   12.0   22.5\n",
      "       fairy     1.075000  0.607591  0.4  1.8   25.550000   14.818120    8.5   44.0\n",
      "       fighting  1.366667  0.057735  1.3  1.4   50.333333    3.175426   48.5   54.0\n",
      "       flying    1.885714  2.101927  0.5  6.5   83.885714  100.068684    5.5  235.0\n",
      "       ghost     1.700000  0.707107  1.2  2.2   84.000000   72.124892   33.0  135.0\n",
      "       grass     1.066667  0.513160  0.5  1.5   30.033333   26.286942    2.6   55.0\n",
      "       ground    1.040000  0.508156  0.4  1.9   42.980000   34.492569    1.9  102.0\n",
      "       ice       1.900000  0.529150  1.5  2.5  157.500000   54.486237  120.0  220.0\n",
      "       poison    1.000000  0.556776  0.5  1.6   34.800000   27.178484    3.9   55.0\n",
      "       psychic   1.466667  0.471876  0.9  2.0   68.833333   36.086932   19.0  120.0\n",
      "       rock      0.875000  0.275379  0.6  1.2   31.475000   33.877758    5.0   81.0\n",
      "       steel     1.700000       NaN  1.7  1.7   84.500000         NaN   84.5   84.5\n"
     ]
    }
   ],
   "source": [
    "ht_wt_by_type_water = ht_wt_by_type.loc[ht_wt_by_type.index.get_level_values('type_1') == 'water']\n",
    "print(ht_wt_by_type_water)"
   ]
  },
  {
   "cell_type": "markdown",
   "metadata": {},
   "source": [
    "Now let's make a simple, if ugly, bar chart comparing mean height and weight of water pokemon by their secondary type."
   ]
  },
  {
   "cell_type": "code",
   "execution_count": 30,
   "metadata": {},
   "outputs": [
    {
     "data": {
      "image/png": "[encoded data removed]",
      "text/plain": [
       "<Figure size 1500x500 with 2 Axes>"
      ]
     },
     "metadata": {},
     "output_type": "display_data"
    }
   ],
   "source": [
    "import seaborn as sns\n",
    "import matplotlib.pyplot as plt\n",
    "\n",
    "# Reset index to make 'type_1' and 'type_2' regular columns\n",
    "df_water = ht_wt_by_type_water.reset_index()\n",
    "\n",
    "# Now we will ensure that we can reference the multi-level columns properly\n",
    "# Flatten the columns for easier access\n",
    "df_water.columns = ['type_1', 'type_2', 'height_mean', 'height_std', 'height_min', 'height_max', \n",
    "                    'weight_mean', 'weight_std', 'weight_min', 'weight_max']\n",
    "\n",
    "\n",
    "# Melt for Seaborn (tidy format)\n",
    "df_melted = df_water.melt(id_vars=['type_2'], \n",
    "                          value_vars=['height_mean', 'weight_mean'], \n",
    "                          var_name='Variable', \n",
    "                          value_name='Value')\n",
    "\n",
    "# Fun color palette\n",
    "palette = sns.color_palette(\"husl\", n_colors=len(df_water))\n",
    "\n",
    "# Create the facet grid\n",
    "g = sns.FacetGrid(df_melted, col=\"Variable\", sharey=False, height=5, aspect=1.5)\n",
    "g.map_dataframe(sns.barplot, x=\"type_2\", y=\"Value\", hue=\"type_2\", palette=palette)\n",
    "\n",
    "# Adjust labels and titles\n",
    "g.set_axis_labels(\"Secondary Type\", \"Value\")\n",
    "g.set_titles(\"{col_name}\")\n",
    "\n",
    "# Make it fun!\n",
    "for ax in g.axes.flat:\n",
    "    for label in ax.get_xticklabels():\n",
    "        label.set_rotation(45)\n",
    "        label.set_fontsize(10)\n",
    "\n",
    "plt.suptitle(\"Water-Type Pokémon: Height & Weight by Secondary Type\", fontsize=14, fontweight=\"bold\", y=1.05)\n",
    "plt.show()\n"
   ]
  },
  {
   "cell_type": "markdown",
   "metadata": {},
   "source": []
  }
 ],
 "metadata": {
  "language_info": {
   "name": "python"
  }
 },
 "nbformat": 4,
 "nbformat_minor": 2
}
