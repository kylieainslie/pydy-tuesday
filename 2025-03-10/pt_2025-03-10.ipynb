{
 "cells": [
  {
   "cell_type": "markdown",
   "metadata": {},
   "source": [
    "# Pydy Tuesday 2025-03-11\n",
    "Data Source: [`pixarfilms`](https://erictleung.com/pixarfilms/) R package by [Eric Leung](https://github.com/erictleung).\n",
    "\n",
    "### Data Details\n",
    "This package contains six data sets provided mostly by [Wikipedia](https://en.wikipedia.org/wiki/List_of_Pixar_films).\n",
    "\n",
    "- `pixar_films` - released and upcoming films\n",
    "- `pixar_people` - main people involved in creating films\n",
    "- `genres` - movie genres for each film\n",
    "- `box_office` - box office reception and budget information\n",
    "- `public_response` - critical and public response\n",
    "- `academy` - academy awards and nominations\n",
    "\n",
    "### Exploration questions\n",
    "- Why are some values missing in the datasets?\n",
    "- Which films have the highest score in each rating system? \n",
    "    - Are there distinct differences in ratings?\n",
    "- Download the box_office dataset from the {pixarfilms} package. \n",
    "    - How does the box_office_us_canada value compare to the various ratings? \n",
    "    - Is the trend different for box_office_worldwide?"
   ]
  },
  {
   "cell_type": "markdown",
   "metadata": {},
   "source": [
    "## Download data\n",
    "We can download the data using the `PyDyTuesday` library and specifying the date. This will load several files:\n",
    "- `pixar_films.csv`: data file.\n",
    "- `public_response.csv`: data file of public responses to Pixar films.\n",
    "- `pixarfilms_hex.png`: hex sticker for `pixarfilms` package.\n",
    "- `meta.yaml`: meta data file with information about the data files and the curator.\n",
    "- `readme.md`: readme file for this week's Tidy Tuesday.\n",
    "\n",
    "The data dictionary is located [here](https://github.com/rfordatascience/tidytuesday/blob/main/data/2025/2025-03-11/readme.md#data-dictionary)"
   ]
  },
  {
   "cell_type": "code",
   "execution_count": 1,
   "metadata": {},
   "outputs": [
    {
     "name": "stdout",
     "output_type": "stream",
     "text": [
      "meta.yaml downloaded\n",
      "pixar_films.csv downloaded\n",
      "pixarfilms_hex.png downloaded\n",
      "public_response.csv downloaded\n",
      "readme.md downloaded\n"
     ]
    }
   ],
   "source": [
    "import PyDyTuesday\n",
    "\n",
    "# Download files from the week, which you can then read in locally\n",
    "PyDyTuesday.get_date('2025-03-11')"
   ]
  }
 ],
 "metadata": {
  "language_info": {
   "name": "python"
  }
 },
 "nbformat": 4,
 "nbformat_minor": 2
}
