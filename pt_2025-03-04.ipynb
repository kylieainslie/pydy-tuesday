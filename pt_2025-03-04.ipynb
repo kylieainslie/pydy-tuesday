{
 "cells": [
  {
   "cell_type": "markdown",
   "metadata": {},
   "source": [
    "# Pydy Tuesday 2025-03-04\n",
    "Data Source: [Long Beach Animal Shelter](https://github.com/rfordatascience/tidytuesday/blob/main/data/2025/2025-03-04/readme.md)\n",
    "\n",
    "### Data Details\n",
    "The dataset comes from the [City of Long Beach Animal Care Services](https://www.longbeach.gov/acs/) via the [{animalshelter}](https://emilhvitfeldt.github.io/animalshelter/) R package.\n",
    "\n",
    "This dataset comprises of the intake and outcome record from Long Beach Animal Shelter.\n",
    "\n",
    "### Exploration questions\n",
    "- How has the number of pet adoptions changed over the years?\n",
    "- Which type of pets are adopted most often?"
   ]
  },
  {
   "cell_type": "markdown",
   "metadata": {},
   "source": [
    "## Download data\n",
    "We can download the data using the `PyDyTuesday` library and specifying the date. This will load several files:\n",
    "- `longbeach.csv`: data file.\n",
    "- `meta.yaml`: meta data file with information about the data files and and the curator.\n",
    "- `lbacs-adoption-graph.png`: Barchart of annual adoption totals from 2018 to 2022.\n",
    "- `LBACS-logo.png`: Long Beach Animal Care Services logo.\n",
    "\n",
    "The data dictionary is located [here](https://github.com/rfordatascience/tidytuesday/blob/main/data/2025/2025-03-04/readme.md#data-dictionary)"
   ]
  },
  {
   "cell_type": "code",
   "execution_count": null,
   "metadata": {},
   "outputs": [],
   "source": [
    "import PyDyTuesday\n",
    "\n",
    "# Download files from the week, which you can then read in locally\n",
    "PyDyTuesday.get_date('2025-03-04')"
   ]
  },
  {
   "cell_type": "markdown",
   "metadata": {},
   "source": [
    "## Explore data\n",
    "First, let's read in the data and have a look."
   ]
  },
  {
   "cell_type": "code",
   "execution_count": null,
   "metadata": {},
   "outputs": [],
   "source": [
    "import pandas as pd\n",
    "\n",
    "df = pd.read_csv(\"longbeach.csv\")\n",
    "print(df.head())"
   ]
  }
 ],
 "metadata": {
  "language_info": {
   "name": "python"
  }
 },
 "nbformat": 4,
 "nbformat_minor": 2
}
