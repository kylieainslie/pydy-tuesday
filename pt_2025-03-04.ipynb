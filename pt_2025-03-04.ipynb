{
 "cells": [
  {
   "cell_type": "markdown",
   "metadata": {},
   "source": [
    "# Pydy Tuesday 2025-03-04\n",
    "Data Source: [Long Beach Animal Shelter](https://github.com/rfordatascience/tidytuesday/blob/main/data/2025/2025-03-04/readme.md)\n",
    "\n",
    "### Data Details\n",
    "The dataset comes from the [City of Long Beach Animal Care Services](https://www.longbeach.gov/acs/) via the [{animalshelter}](https://emilhvitfeldt.github.io/animalshelter/) R package.\n",
    "\n",
    "This dataset comprises of the intake and outcome record from Long Beach Animal Shelter.\n",
    "\n",
    "### Exploration questions\n",
    "- How has the number of pet adoptions changed over the years?\n",
    "- Which type of pets are adopted most often?"
   ]
  },
  {
   "cell_type": "markdown",
   "metadata": {},
   "source": [
    "## Download data\n",
    "We can download the data using the `PyDyTuesday` library and specifying the date. This will load several files:\n",
    "- `longbeach.csv`: data file.\n",
    "- `meta.yaml`: meta data file with information about the data files and and the curator.\n",
    "- `lbacs-adoption-graph.png`: Barchart of annual adoption totals from 2018 to 2022.\n",
    "- `LBACS-logo.png`: Long Beach Animal Care Services logo.\n",
    "\n",
    "The data dictionary is located [here](https://github.com/rfordatascience/tidytuesday/blob/main/data/2025/2025-03-04/readme.md#data-dictionary)"
   ]
  },
  {
   "cell_type": "code",
   "execution_count": 1,
   "metadata": {},
   "outputs": [
    {
     "name": "stdout",
     "output_type": "stream",
     "text": [
      "LBACS-logo.png downloaded\n",
      "lbacs-adoption-graph.png downloaded\n",
      "longbeach.csv downloaded\n",
      "meta.yaml downloaded\n",
      "readme.md downloaded\n"
     ]
    }
   ],
   "source": [
    "import PyDyTuesday\n",
    "\n",
    "# Download files from the week, which you can then read in locally\n",
    "PyDyTuesday.get_date('2025-03-04')"
   ]
  },
  {
   "cell_type": "markdown",
   "metadata": {},
   "source": [
    "## Explore data\n",
    "First, let's read in the data and have a look."
   ]
  },
  {
   "cell_type": "code",
   "execution_count": 3,
   "metadata": {},
   "outputs": [
    {
     "name": "stdout",
     "output_type": "stream",
     "text": [
      "  animal_id animal_name animal_type primary_color secondary_color      sex  \\\n",
      "0   A693708   *charlien         dog         white             NaN   Female   \n",
      "1   A708149         NaN     reptile         brown           green  Unknown   \n",
      "2   A638068         NaN        bird         green             red  Unknown   \n",
      "3   A639310         NaN        bird         white            gray  Unknown   \n",
      "4   A618968     *morgan         cat         black           white   Female   \n",
      "\n",
      "          dob intake_date intake_condition intake_type  ... outcome_date  \\\n",
      "0  2013-02-21  2023-02-20         ill mild       stray  ...   2023-02-26   \n",
      "1         NaN  2023-10-03           normal       stray  ...   2023-10-03   \n",
      "2         NaN  2020-01-01  injured  severe    wildlife  ...   2020-01-01   \n",
      "3         NaN  2020-02-02       ill severe    wildlife  ...   2020-02-02   \n",
      "4  2014-12-18  2018-12-18  injured  severe       stray  ...   2019-01-13   \n",
      "\n",
      "                                          crossing jurisdiction outcome_type  \\\n",
      "0  [2600 BLK LONG BEACH BLVD, LONG BEACH CA, 90806   Long Beach   euthanasia   \n",
      "1                    `600 BLK E HARCOURT, LB 90805   Long Beach       rescue   \n",
      "2            0 BLK GRAND AVE, LONG BEACH, CA 90803   Long Beach   euthanasia   \n",
      "3           0 BLK TEMPLE AVE, LONG BEACH, CA 90803   Long Beach     transfer   \n",
      "4            0 BLK W ZANE ST, LONG BEACH, CA 90805   Long Beach       rescue   \n",
      "\n",
      "  outcome_subtype   latitude   longitude  outcome_is_dead  was_outcome_alive  \\\n",
      "0      ill severe  33.804794 -118.188926             True              False   \n",
      "1      other resc  33.867999 -118.200931            False               True   \n",
      "2      inj severe  33.760478 -118.148091             True              False   \n",
      "3            lbah  33.762460 -118.159678            False               True   \n",
      "4      littlelion  33.849501 -118.194905            False               True   \n",
      "\n",
      "                   geopoint  \n",
      "0  33.8047935, -118.1889261  \n",
      "1  33.8679994, -118.2009307  \n",
      "2  33.7604783, -118.1480912  \n",
      "3  33.7624598, -118.1596777  \n",
      "4  33.8495009, -118.1949053  \n",
      "\n",
      "[5 rows x 22 columns]\n"
     ]
    }
   ],
   "source": [
    "import pandas as pd\n",
    "\n",
    "df = pd.read_csv(\"longbeach.csv\")\n",
    "print(df.head())"
   ]
  },
  {
   "cell_type": "markdown",
   "metadata": {},
   "source": [
    "Now, let's use the `great_tables` library to print a snapshot of our data in a prettier format. Because the dataset has 22 columns, we'll hide some columns."
   ]
  },
  {
   "cell_type": "code",
   "execution_count": 9,
   "metadata": {},
   "outputs": [
    {
     "data": {
      "text/html": [
       "<!DOCTYPE html>\n",
       "<html lang=\"en\">\n",
       "<head>\n",
       "<meta charset=\"utf-8\"/>\n",
       "</head>\n",
       "<body>\n",
       "<div id=\"vstdadfqun\" style=\"padding-left:0px;padding-right:0px;padding-top:10px;padding-bottom:10px;overflow-x:auto;overflow-y:auto;width:auto;height:auto;\">\n",
       "<style>\n",
       "#vstdadfqun table {\n",
       "          font-family: -apple-system, BlinkMacSystemFont, 'Segoe UI', Roboto, Oxygen, Ubuntu, Cantarell, 'Helvetica Neue', 'Fira Sans', 'Droid Sans', Arial, sans-serif;\n",
       "          -webkit-font-smoothing: antialiased;\n",
       "          -moz-osx-font-smoothing: grayscale;\n",
       "        }\n",
       "\n",
       "#vstdadfqun thead, tbody, tfoot, tr, td, th { border-style: none !important; }\n",
       " tr { background-color: transparent !important; }\n",
       "#vstdadfqun p { margin: 0 !important; padding: 0 !important; }\n",
       " #vstdadfqun .gt_table { display: table !important; border-collapse: collapse !important; line-height: normal !important; margin-left: auto !important; margin-right: auto !important; color: #333333 !important; font-size: 16px !important; font-weight: normal !important; font-style: normal !important; background-color: #FFFFFF !important; width: auto !important; border-top-style: solid !important; border-top-width: 2px !important; border-top-color: #A8A8A8 !important; border-right-style: none !important; border-right-width: 2px !important; border-right-color: #D3D3D3 !important; border-bottom-style: solid !important; border-bottom-width: 2px !important; border-bottom-color: #A8A8A8 !important; border-left-style: none !important; border-left-width: 2px !important; border-left-color: #D3D3D3 !important; }\n",
       " #vstdadfqun .gt_caption { padding-top: 4px !important; padding-bottom: 4px !important; }\n",
       " #vstdadfqun .gt_title { color: #333333 !important; font-size: 125% !important; font-weight: initial !important; padding-top: 4px !important; padding-bottom: 4px !important; padding-left: 5px !important; padding-right: 5px !important; border-bottom-color: #FFFFFF !important; border-bottom-width: 0 !important; }\n",
       " #vstdadfqun .gt_subtitle { color: #333333 !important; font-size: 85% !important; font-weight: initial !important; padding-top: 3px !important; padding-bottom: 5px !important; padding-left: 5px !important; padding-right: 5px !important; border-top-color: #FFFFFF !important; border-top-width: 0 !important; }\n",
       " #vstdadfqun .gt_heading { background-color: #FFFFFF !important; text-align: center !important; border-bottom-color: #FFFFFF !important; border-left-style: none !important; border-left-width: 1px !important; border-left-color: #D3D3D3 !important; border-right-style: none !important; border-right-width: 1px !important; border-right-color: #D3D3D3 !important; }\n",
       " #vstdadfqun .gt_bottom_border { border-bottom-style: solid !important; border-bottom-width: 2px !important; border-bottom-color: #D3D3D3 !important; }\n",
       " #vstdadfqun .gt_col_headings { border-top-style: solid !important; border-top-width: 2px !important; border-top-color: #D3D3D3 !important; border-bottom-style: solid !important; border-bottom-width: 2px !important; border-bottom-color: #D3D3D3 !important; border-left-style: none !important; border-left-width: 1px !important; border-left-color: #D3D3D3 !important; border-right-style: none !important; border-right-width: 1px !important; border-right-color: #D3D3D3 !important; }\n",
       " #vstdadfqun .gt_col_heading { color: #333333 !important; background-color: #FFFFFF !important; font-size: 100% !important; font-weight: normal !important; text-transform: inherit !important; border-left-style: none !important; border-left-width: 1px !important; border-left-color: #D3D3D3 !important; border-right-style: none !important; border-right-width: 1px !important; border-right-color: #D3D3D3 !important; vertical-align: bottom !important; padding-top: 5px !important; padding-bottom: 5px !important; padding-left: 5px !important; padding-right: 5px !important; overflow-x: hidden !important; }\n",
       " #vstdadfqun .gt_column_spanner_outer { color: #333333 !important; background-color: #FFFFFF !important; font-size: 100% !important; font-weight: normal !important; text-transform: inherit !important; padding-top: 0 !important; padding-bottom: 0 !important; padding-left: 4px !important; padding-right: 4px !important; }\n",
       " #vstdadfqun .gt_column_spanner_outer:first-child { padding-left: 0 !important; }\n",
       " #vstdadfqun .gt_column_spanner_outer:last-child { padding-right: 0 !important; }\n",
       " #vstdadfqun .gt_column_spanner { border-bottom-style: solid !important; border-bottom-width: 2px !important; border-bottom-color: #D3D3D3 !important; vertical-align: bottom !important; padding-top: 5px !important; padding-bottom: 5px !important; overflow-x: hidden !important; display: inline-block !important; width: 100% !important; }\n",
       " #vstdadfqun .gt_spanner_row { border-bottom-style: hidden !important; }\n",
       " #vstdadfqun .gt_group_heading { padding-top: 8px !important; padding-bottom: 8px !important; padding-left: 5px !important; padding-right: 5px !important; color: #333333 !important; background-color: #FFFFFF !important; font-size: 100% !important; font-weight: initial !important; text-transform: inherit !important; border-top-style: solid !important; border-top-width: 2px !important; border-top-color: #D3D3D3 !important; border-bottom-style: solid !important; border-bottom-width: 2px !important; border-bottom-color: #D3D3D3 !important; border-left-style: none !important; border-left-width: 1px !important; border-left-color: #D3D3D3 !important; border-right-style: none !important; border-right-width: 1px !important; border-right-color: #D3D3D3 !important; vertical-align: middle !important; text-align: left !important; }\n",
       " #vstdadfqun .gt_empty_group_heading { padding: 0.5px !important; color: #333333 !important; background-color: #FFFFFF !important; font-size: 100% !important; font-weight: initial !important; border-top-style: solid !important; border-top-width: 2px !important; border-top-color: #D3D3D3 !important; border-bottom-style: solid !important; border-bottom-width: 2px !important; border-bottom-color: #D3D3D3 !important; vertical-align: middle !important; }\n",
       " #vstdadfqun .gt_from_md> :first-child { margin-top: 0 !important; }\n",
       " #vstdadfqun .gt_from_md> :last-child { margin-bottom: 0 !important; }\n",
       " #vstdadfqun .gt_row { padding-top: 8px !important; padding-bottom: 8px !important; padding-left: 5px !important; padding-right: 5px !important; margin: 10px !important; border-top-style: solid !important; border-top-width: 1px !important; border-top-color: #D3D3D3 !important; border-left-style: none !important; border-left-width: 1px !important; border-left-color: #D3D3D3 !important; border-right-style: none !important; border-right-width: 1px !important; border-right-color: #D3D3D3 !important; vertical-align: middle !important; overflow-x: hidden !important; }\n",
       " #vstdadfqun .gt_stub { color: #333333 !important; background-color: #FFFFFF !important; font-size: 100% !important; font-weight: initial !important; text-transform: inherit !important; border-right-style: solid !important; border-right-width: 2px !important; border-right-color: #D3D3D3 !important; padding-left: 5px !important; padding-right: 5px !important; }\n",
       " #vstdadfqun .gt_stub_row_group { color: #333333 !important; background-color: #FFFFFF !important; font-size: 100% !important; font-weight: initial !important; text-transform: inherit !important; border-right-style: solid !important; border-right-width: 2px !important; border-right-color: #D3D3D3 !important; padding-left: 5px !important; padding-right: 5px !important; vertical-align: top !important; }\n",
       " #vstdadfqun .gt_row_group_first td { border-top-width: 2px !important; }\n",
       " #vstdadfqun .gt_row_group_first th { border-top-width: 2px !important; }\n",
       " #vstdadfqun .gt_striped { background-color: rgba(128,128,128,0.05) !important; }\n",
       " #vstdadfqun .gt_table_body { border-top-style: solid !important; border-top-width: 2px !important; border-top-color: #D3D3D3 !important; border-bottom-style: solid !important; border-bottom-width: 2px !important; border-bottom-color: #D3D3D3 !important; }\n",
       " #vstdadfqun .gt_sourcenotes { color: #333333 !important; background-color: #FFFFFF !important; border-bottom-style: none !important; border-bottom-width: 2px !important; border-bottom-color: #D3D3D3 !important; border-left-style: none !important; border-left-width: 2px !important; border-left-color: #D3D3D3 !important; border-right-style: none !important; border-right-width: 2px !important; border-right-color: #D3D3D3 !important; }\n",
       " #vstdadfqun .gt_sourcenote { font-size: 90% !important; padding-top: 4px !important; padding-bottom: 4px !important; padding-left: 5px !important; padding-right: 5px !important; text-align: left !important; }\n",
       " #vstdadfqun .gt_left { text-align: left !important; }\n",
       " #vstdadfqun .gt_center { text-align: center !important; }\n",
       " #vstdadfqun .gt_right { text-align: right !important; font-variant-numeric: tabular-nums !important; }\n",
       " #vstdadfqun .gt_font_normal { font-weight: normal !important; }\n",
       " #vstdadfqun .gt_font_bold { font-weight: bold !important; }\n",
       " #vstdadfqun .gt_font_italic { font-style: italic !important; }\n",
       " #vstdadfqun .gt_super { font-size: 65% !important; }\n",
       " #vstdadfqun .gt_footnote_marks { font-size: 75% !important; vertical-align: 0.4em !important; position: initial !important; }\n",
       " #vstdadfqun .gt_asterisk { font-size: 100% !important; vertical-align: 0 !important; }\n",
       " \n",
       "</style>\n",
       "<table class=\"gt_table\" data-quarto-disable-processing=\"false\" data-quarto-bootstrap=\"false\">\n",
       "<thead>\n",
       "\n",
       "  <tr class=\"gt_heading\">\n",
       "    <td colspan=\"10\" class=\"gt_heading gt_title gt_font_normal\">Long Beach Animal Shelter</td>\n",
       "  </tr>\n",
       "  <tr class=\"gt_heading\">\n",
       "    <td colspan=\"10\" class=\"gt_heading gt_subtitle gt_font_normal gt_bottom_border\">Intake and Outcome Records</td>\n",
       "  </tr>\n",
       "<tr class=\"gt_col_headings\">\n",
       "  <th class=\"gt_col_heading gt_columns_bottom_border gt_left\" rowspan=\"1\" colspan=\"1\" scope=\"col\" id=\"animal_id\">animal_id</th>\n",
       "  <th class=\"gt_col_heading gt_columns_bottom_border gt_left\" rowspan=\"1\" colspan=\"1\" scope=\"col\" id=\"animal_type\">animal_type</th>\n",
       "  <th class=\"gt_col_heading gt_columns_bottom_border gt_left\" rowspan=\"1\" colspan=\"1\" scope=\"col\" id=\"sex\">sex</th>\n",
       "  <th class=\"gt_col_heading gt_columns_bottom_border gt_right\" rowspan=\"1\" colspan=\"1\" scope=\"col\" id=\"dob\">dob</th>\n",
       "  <th class=\"gt_col_heading gt_columns_bottom_border gt_right\" rowspan=\"1\" colspan=\"1\" scope=\"col\" id=\"intake_date\">intake_date</th>\n",
       "  <th class=\"gt_col_heading gt_columns_bottom_border gt_left\" rowspan=\"1\" colspan=\"1\" scope=\"col\" id=\"intake_condition\">intake_condition</th>\n",
       "  <th class=\"gt_col_heading gt_columns_bottom_border gt_left\" rowspan=\"1\" colspan=\"1\" scope=\"col\" id=\"intake_type\">intake_type</th>\n",
       "  <th class=\"gt_col_heading gt_columns_bottom_border gt_right\" rowspan=\"1\" colspan=\"1\" scope=\"col\" id=\"outcome_date\">outcome_date</th>\n",
       "  <th class=\"gt_col_heading gt_columns_bottom_border gt_left\" rowspan=\"1\" colspan=\"1\" scope=\"col\" id=\"outcome_type\">outcome_type</th>\n",
       "  <th class=\"gt_col_heading gt_columns_bottom_border gt_left\" rowspan=\"1\" colspan=\"1\" scope=\"col\" id=\"outcome_subtype\">outcome_subtype</th>\n",
       "</tr>\n",
       "</thead>\n",
       "<tbody class=\"gt_table_body\">\n",
       "  <tr>\n",
       "    <td class=\"gt_row gt_left\">A693708</td>\n",
       "    <td class=\"gt_row gt_left\">dog</td>\n",
       "    <td class=\"gt_row gt_left\">Female</td>\n",
       "    <td class=\"gt_row gt_right\">Thu, Feb 21, 2013</td>\n",
       "    <td class=\"gt_row gt_right\">Mon, Feb 20, 2023</td>\n",
       "    <td class=\"gt_row gt_left\">ill mild</td>\n",
       "    <td class=\"gt_row gt_left\">stray</td>\n",
       "    <td class=\"gt_row gt_right\">Sun, Feb 26, 2023</td>\n",
       "    <td class=\"gt_row gt_left\">euthanasia</td>\n",
       "    <td class=\"gt_row gt_left\">ill severe</td>\n",
       "  </tr>\n",
       "  <tr>\n",
       "    <td class=\"gt_row gt_left\">A708149</td>\n",
       "    <td class=\"gt_row gt_left\">reptile</td>\n",
       "    <td class=\"gt_row gt_left\">Unknown</td>\n",
       "    <td class=\"gt_row gt_right\"><NA></td>\n",
       "    <td class=\"gt_row gt_right\">Tue, Oct 3, 2023</td>\n",
       "    <td class=\"gt_row gt_left\">normal</td>\n",
       "    <td class=\"gt_row gt_left\">stray</td>\n",
       "    <td class=\"gt_row gt_right\">Tue, Oct 3, 2023</td>\n",
       "    <td class=\"gt_row gt_left\">rescue</td>\n",
       "    <td class=\"gt_row gt_left\">other resc</td>\n",
       "  </tr>\n",
       "  <tr>\n",
       "    <td class=\"gt_row gt_left\">A638068</td>\n",
       "    <td class=\"gt_row gt_left\">bird</td>\n",
       "    <td class=\"gt_row gt_left\">Unknown</td>\n",
       "    <td class=\"gt_row gt_right\"><NA></td>\n",
       "    <td class=\"gt_row gt_right\">Wed, Jan 1, 2020</td>\n",
       "    <td class=\"gt_row gt_left\">injured  severe</td>\n",
       "    <td class=\"gt_row gt_left\">wildlife</td>\n",
       "    <td class=\"gt_row gt_right\">Wed, Jan 1, 2020</td>\n",
       "    <td class=\"gt_row gt_left\">euthanasia</td>\n",
       "    <td class=\"gt_row gt_left\">inj severe</td>\n",
       "  </tr>\n",
       "  <tr>\n",
       "    <td class=\"gt_row gt_left\">A639310</td>\n",
       "    <td class=\"gt_row gt_left\">bird</td>\n",
       "    <td class=\"gt_row gt_left\">Unknown</td>\n",
       "    <td class=\"gt_row gt_right\"><NA></td>\n",
       "    <td class=\"gt_row gt_right\">Sun, Feb 2, 2020</td>\n",
       "    <td class=\"gt_row gt_left\">ill severe</td>\n",
       "    <td class=\"gt_row gt_left\">wildlife</td>\n",
       "    <td class=\"gt_row gt_right\">Sun, Feb 2, 2020</td>\n",
       "    <td class=\"gt_row gt_left\">transfer</td>\n",
       "    <td class=\"gt_row gt_left\">lbah</td>\n",
       "  </tr>\n",
       "  <tr>\n",
       "    <td class=\"gt_row gt_left\">A618968</td>\n",
       "    <td class=\"gt_row gt_left\">cat</td>\n",
       "    <td class=\"gt_row gt_left\">Female</td>\n",
       "    <td class=\"gt_row gt_right\">Thu, Dec 18, 2014</td>\n",
       "    <td class=\"gt_row gt_right\">Tue, Dec 18, 2018</td>\n",
       "    <td class=\"gt_row gt_left\">injured  severe</td>\n",
       "    <td class=\"gt_row gt_left\">stray</td>\n",
       "    <td class=\"gt_row gt_right\">Sun, Jan 13, 2019</td>\n",
       "    <td class=\"gt_row gt_left\">rescue</td>\n",
       "    <td class=\"gt_row gt_left\">littlelion</td>\n",
       "  </tr>\n",
       "</tbody>\n",
       "\n",
       "\n",
       "</table>\n",
       "\n",
       "</div>\n",
       "        \n",
       "</body>\n",
       "</html>\n",
       "            "
      ],
      "text/plain": [
       "GT(_tbl_data=  animal_id animal_name animal_type primary_color secondary_color      sex  \\\n",
       "0   A693708   *charlien         dog         white             NaN   Female   \n",
       "1   A708149         NaN     reptile         brown           green  Unknown   \n",
       "2   A638068         NaN        bird         green             red  Unknown   \n",
       "3   A639310         NaN        bird         white            gray  Unknown   \n",
       "4   A618968     *morgan         cat         black           white   Female   \n",
       "\n",
       "          dob intake_date intake_condition intake_type  ... outcome_date  \\\n",
       "0  2013-02-21  2023-02-20         ill mild       stray  ...   2023-02-26   \n",
       "1         NaN  2023-10-03           normal       stray  ...   2023-10-03   \n",
       "2         NaN  2020-01-01  injured  severe    wildlife  ...   2020-01-01   \n",
       "3         NaN  2020-02-02       ill severe    wildlife  ...   2020-02-02   \n",
       "4  2014-12-18  2018-12-18  injured  severe       stray  ...   2019-01-13   \n",
       "\n",
       "                                          crossing jurisdiction outcome_type  \\\n",
       "0  [2600 BLK LONG BEACH BLVD, LONG BEACH CA, 90806   Long Beach   euthanasia   \n",
       "1                    `600 BLK E HARCOURT, LB 90805   Long Beach       rescue   \n",
       "2            0 BLK GRAND AVE, LONG BEACH, CA 90803   Long Beach   euthanasia   \n",
       "3           0 BLK TEMPLE AVE, LONG BEACH, CA 90803   Long Beach     transfer   \n",
       "4            0 BLK W ZANE ST, LONG BEACH, CA 90805   Long Beach       rescue   \n",
       "\n",
       "  outcome_subtype   latitude   longitude  outcome_is_dead  was_outcome_alive  \\\n",
       "0      ill severe  33.804794 -118.188926             True              False   \n",
       "1      other resc  33.867999 -118.200931            False               True   \n",
       "2      inj severe  33.760478 -118.148091             True              False   \n",
       "3            lbah  33.762460 -118.159678            False               True   \n",
       "4      littlelion  33.849501 -118.194905            False               True   \n",
       "\n",
       "                   geopoint  \n",
       "0  33.8047935, -118.1889261  \n",
       "1  33.8679994, -118.2009307  \n",
       "2  33.7604783, -118.1480912  \n",
       "3  33.7624598, -118.1596777  \n",
       "4  33.8495009, -118.1949053  \n",
       "\n",
       "[5 rows x 22 columns], _body=<great_tables._gt_data.Body object at 0x12e842970>, _boxhead=Boxhead([ColInfo(var='animal_id', type=<ColInfoTypeEnum.default: 1>, column_label='animal_id', column_align='left', column_width=None), ColInfo(var='animal_name', type=<ColInfoTypeEnum.hidden: 4>, column_label='animal_name', column_align='left', column_width=None), ColInfo(var='animal_type', type=<ColInfoTypeEnum.default: 1>, column_label='animal_type', column_align='left', column_width=None), ColInfo(var='primary_color', type=<ColInfoTypeEnum.hidden: 4>, column_label='primary_color', column_align='left', column_width=None), ColInfo(var='secondary_color', type=<ColInfoTypeEnum.hidden: 4>, column_label='secondary_color', column_align='left', column_width=None), ColInfo(var='sex', type=<ColInfoTypeEnum.default: 1>, column_label='sex', column_align='left', column_width=None), ColInfo(var='dob', type=<ColInfoTypeEnum.default: 1>, column_label='dob', column_align='right', column_width=None), ColInfo(var='intake_date', type=<ColInfoTypeEnum.default: 1>, column_label='intake_date', column_align='right', column_width=None), ColInfo(var='intake_condition', type=<ColInfoTypeEnum.default: 1>, column_label='intake_condition', column_align='left', column_width=None), ColInfo(var='intake_type', type=<ColInfoTypeEnum.default: 1>, column_label='intake_type', column_align='left', column_width=None), ColInfo(var='intake_subtype', type=<ColInfoTypeEnum.hidden: 4>, column_label='intake_subtype', column_align='left', column_width=None), ColInfo(var='reason_for_intake', type=<ColInfoTypeEnum.hidden: 4>, column_label='reason_for_intake', column_align='right', column_width=None), ColInfo(var='outcome_date', type=<ColInfoTypeEnum.default: 1>, column_label='outcome_date', column_align='right', column_width=None), ColInfo(var='crossing', type=<ColInfoTypeEnum.hidden: 4>, column_label='crossing', column_align='left', column_width=None), ColInfo(var='jurisdiction', type=<ColInfoTypeEnum.hidden: 4>, column_label='jurisdiction', column_align='left', column_width=None), ColInfo(var='outcome_type', type=<ColInfoTypeEnum.default: 1>, column_label='outcome_type', column_align='left', column_width=None), ColInfo(var='outcome_subtype', type=<ColInfoTypeEnum.default: 1>, column_label='outcome_subtype', column_align='left', column_width=None), ColInfo(var='latitude', type=<ColInfoTypeEnum.hidden: 4>, column_label='latitude', column_align='right', column_width=None), ColInfo(var='longitude', type=<ColInfoTypeEnum.hidden: 4>, column_label='longitude', column_align='right', column_width=None), ColInfo(var='outcome_is_dead', type=<ColInfoTypeEnum.hidden: 4>, column_label='outcome_is_dead', column_align='center', column_width=None), ColInfo(var='was_outcome_alive', type=<ColInfoTypeEnum.hidden: 4>, column_label='was_outcome_alive', column_align='center', column_width=None), ColInfo(var='geopoint', type=<ColInfoTypeEnum.hidden: 4>, column_label='geopoint', column_align='right', column_width=None)]), _stub=<great_tables._gt_data.Stub object at 0x12e59c710>, _spanners=Spanners([]), _heading=Heading(title='Long Beach Animal Shelter', subtitle='Intake and Outcome Records', preheader=None), _stubhead=None, _source_notes=[], _footnotes=[], _styles=[], _locale=<great_tables._gt_data.Locale object at 0x12e85ca70>, _formats=[<great_tables._gt_data.FormatInfo object at 0x12e66c490>], _substitutions=[], _options=Options(table_id=OptionsInfo(scss=False, category='table', type='value', value=None), table_caption=OptionsInfo(scss=False, category='table', type='value', value=None), table_width=OptionsInfo(scss=True, category='table', type='px', value='auto'), table_layout=OptionsInfo(scss=True, category='table', type='value', value='fixed'), table_margin_left=OptionsInfo(scss=True, category='table', type='px', value='auto'), table_margin_right=OptionsInfo(scss=True, category='table', type='px', value='auto'), table_background_color=OptionsInfo(scss=True, category='table', type='value', value='#FFFFFF'), table_additional_css=OptionsInfo(scss=False, category='table', type='values', value=[]), table_font_names=OptionsInfo(scss=False, category='table', type='values', value=['-apple-system', 'BlinkMacSystemFont', 'Segoe UI', 'Roboto', 'Oxygen', 'Ubuntu', 'Cantarell', 'Helvetica Neue', 'Fira Sans', 'Droid Sans', 'Arial', 'sans-serif']), table_font_size=OptionsInfo(scss=True, category='table', type='px', value='16px'), table_font_weight=OptionsInfo(scss=True, category='table', type='value', value='normal'), table_font_style=OptionsInfo(scss=True, category='table', type='value', value='normal'), table_font_color=OptionsInfo(scss=True, category='table', type='value', value='#333333'), table_font_color_light=OptionsInfo(scss=True, category='table', type='value', value='#FFFFFF'), table_border_top_include=OptionsInfo(scss=False, category='table', type='boolean', value=True), table_border_top_style=OptionsInfo(scss=True, category='table', type='value', value='solid'), table_border_top_width=OptionsInfo(scss=True, category='table', type='px', value='2px'), table_border_top_color=OptionsInfo(scss=True, category='table', type='value', value='#A8A8A8'), table_border_right_style=OptionsInfo(scss=True, category='table', type='value', value='none'), table_border_right_width=OptionsInfo(scss=True, category='table', type='px', value='2px'), table_border_right_color=OptionsInfo(scss=True, category='table', type='value', value='#D3D3D3'), table_border_bottom_include=OptionsInfo(scss=False, category='table', type='boolean', value=True), table_border_bottom_style=OptionsInfo(scss=True, category='table', type='value', value='solid'), table_border_bottom_width=OptionsInfo(scss=True, category='table', type='px', value='2px'), table_border_bottom_color=OptionsInfo(scss=True, category='table', type='value', value='#A8A8A8'), table_border_left_style=OptionsInfo(scss=True, category='table', type='value', value='none'), table_border_left_width=OptionsInfo(scss=True, category='table', type='px', value='2px'), table_border_left_color=OptionsInfo(scss=True, category='table', type='value', value='#D3D3D3'), heading_background_color=OptionsInfo(scss=True, category='heading', type='value', value=None), heading_align=OptionsInfo(scss=True, category='heading', type='value', value='center'), heading_title_font_size=OptionsInfo(scss=True, category='heading', type='px', value='125%'), heading_title_font_weight=OptionsInfo(scss=True, category='heading', type='value', value='initial'), heading_subtitle_font_size=OptionsInfo(scss=True, category='heading', type='px', value='85%'), heading_subtitle_font_weight=OptionsInfo(scss=True, category='heading', type='value', value='initial'), heading_padding=OptionsInfo(scss=True, category='heading', type='px', value='4px'), heading_padding_horizontal=OptionsInfo(scss=True, category='heading', type='px', value='5px'), heading_border_bottom_style=OptionsInfo(scss=True, category='heading', type='value', value='solid'), heading_border_bottom_width=OptionsInfo(scss=True, category='heading', type='px', value='2px'), heading_border_bottom_color=OptionsInfo(scss=True, category='heading', type='value', value='#D3D3D3'), heading_border_lr_style=OptionsInfo(scss=True, category='heading', type='value', value='none'), heading_border_lr_width=OptionsInfo(scss=True, category='heading', type='px', value='1px'), heading_border_lr_color=OptionsInfo(scss=True, category='heading', type='value', value='#D3D3D3'), column_labels_background_color=OptionsInfo(scss=True, category='column_labels', type='value', value=None), column_labels_font_size=OptionsInfo(scss=True, category='column_labels', type='px', value='100%'), column_labels_font_weight=OptionsInfo(scss=True, category='column_labels', type='value', value='normal'), column_labels_text_transform=OptionsInfo(scss=True, category='column_labels', type='value', value='inherit'), column_labels_padding=OptionsInfo(scss=True, category='column_labels', type='px', value='5px'), column_labels_padding_horizontal=OptionsInfo(scss=True, category='column_labels', type='px', value='5px'), column_labels_vlines_style=OptionsInfo(scss=True, category='table_body', type='value', value='none'), column_labels_vlines_width=OptionsInfo(scss=True, category='table_body', type='px', value='1px'), column_labels_vlines_color=OptionsInfo(scss=True, category='table_body', type='value', value='#D3D3D3'), column_labels_border_top_style=OptionsInfo(scss=True, category='column_labels', type='value', value='solid'), column_labels_border_top_width=OptionsInfo(scss=True, category='column_labels', type='px', value='2px'), column_labels_border_top_color=OptionsInfo(scss=True, category='column_labels', type='value', value='#D3D3D3'), column_labels_border_bottom_style=OptionsInfo(scss=True, category='column_labels', type='value', value='solid'), column_labels_border_bottom_width=OptionsInfo(scss=True, category='column_labels', type='px', value='2px'), column_labels_border_bottom_color=OptionsInfo(scss=True, category='column_labels', type='value', value='#D3D3D3'), column_labels_border_lr_style=OptionsInfo(scss=True, category='column_labels', type='value', value='none'), column_labels_border_lr_width=OptionsInfo(scss=True, category='column_labels', type='px', value='1px'), column_labels_border_lr_color=OptionsInfo(scss=True, category='column_labels', type='value', value='#D3D3D3'), column_labels_hidden=OptionsInfo(scss=False, category='column_labels', type='boolean', value=False), row_group_background_color=OptionsInfo(scss=True, category='row_group', type='value', value=None), row_group_font_size=OptionsInfo(scss=True, category='row_group', type='px', value='100%'), row_group_font_weight=OptionsInfo(scss=True, category='row_group', type='value', value='initial'), row_group_text_transform=OptionsInfo(scss=True, category='row_group', type='value', value='inherit'), row_group_padding=OptionsInfo(scss=True, category='row_group', type='px', value='8px'), row_group_padding_horizontal=OptionsInfo(scss=True, category='row_group', type='px', value='5px'), row_group_border_top_style=OptionsInfo(scss=True, category='row_group', type='value', value='solid'), row_group_border_top_width=OptionsInfo(scss=True, category='row_group', type='px', value='2px'), row_group_border_top_color=OptionsInfo(scss=True, category='row_group', type='value', value='#D3D3D3'), row_group_border_right_style=OptionsInfo(scss=True, category='row_group', type='value', value='none'), row_group_border_right_width=OptionsInfo(scss=True, category='row_group', type='px', value='1px'), row_group_border_right_color=OptionsInfo(scss=True, category='row_group', type='value', value='#D3D3D3'), row_group_border_bottom_style=OptionsInfo(scss=True, category='row_group', type='value', value='solid'), row_group_border_bottom_width=OptionsInfo(scss=True, category='row_group', type='px', value='2px'), row_group_border_bottom_color=OptionsInfo(scss=True, category='row_group', type='value', value='#D3D3D3'), row_group_border_left_style=OptionsInfo(scss=True, category='row_group', type='value', value='none'), row_group_border_left_width=OptionsInfo(scss=True, category='row_group', type='px', value='1px'), row_group_border_left_color=OptionsInfo(scss=True, category='row_group', type='value', value='#D3D3D3'), row_group_as_column=OptionsInfo(scss=False, category='row_group', type='boolean', value=False), table_body_hlines_style=OptionsInfo(scss=True, category='table_body', type='value', value='solid'), table_body_hlines_width=OptionsInfo(scss=True, category='table_body', type='px', value='1px'), table_body_hlines_color=OptionsInfo(scss=True, category='table_body', type='value', value='#D3D3D3'), table_body_vlines_style=OptionsInfo(scss=True, category='table_body', type='value', value='none'), table_body_vlines_width=OptionsInfo(scss=True, category='table_body', type='px', value='1px'), table_body_vlines_color=OptionsInfo(scss=True, category='table_body', type='value', value='#D3D3D3'), table_body_border_top_style=OptionsInfo(scss=True, category='table_body', type='value', value='solid'), table_body_border_top_width=OptionsInfo(scss=True, category='table_body', type='px', value='2px'), table_body_border_top_color=OptionsInfo(scss=True, category='table_body', type='value', value='#D3D3D3'), table_body_border_bottom_style=OptionsInfo(scss=True, category='table_body', type='value', value='solid'), table_body_border_bottom_width=OptionsInfo(scss=True, category='table_body', type='px', value='2px'), table_body_border_bottom_color=OptionsInfo(scss=True, category='table_body', type='value', value='#D3D3D3'), data_row_padding=OptionsInfo(scss=True, category='data_row', type='px', value='8px'), data_row_padding_horizontal=OptionsInfo(scss=True, category='data_row', type='px', value='5px'), stub_background_color=OptionsInfo(scss=True, category='stub', type='value', value=None), stub_font_size=OptionsInfo(scss=True, category='stub', type='px', value='100%'), stub_font_weight=OptionsInfo(scss=True, category='stub', type='value', value='initial'), stub_text_transform=OptionsInfo(scss=True, category='stub', type='value', value='inherit'), stub_border_style=OptionsInfo(scss=True, category='stub', type='value', value='solid'), stub_border_width=OptionsInfo(scss=True, category='stub', type='px', value='2px'), stub_border_color=OptionsInfo(scss=True, category='stub', type='value', value='#D3D3D3'), stub_row_group_background_color=OptionsInfo(scss=True, category='stub', type='value', value=None), stub_row_group_font_size=OptionsInfo(scss=True, category='stub', type='px', value='100%'), stub_row_group_font_weight=OptionsInfo(scss=True, category='stub', type='value', value='initial'), stub_row_group_text_transform=OptionsInfo(scss=True, category='stub', type='value', value='inherit'), stub_row_group_border_style=OptionsInfo(scss=True, category='stub', type='value', value='solid'), stub_row_group_border_width=OptionsInfo(scss=True, category='stub', type='px', value='2px'), stub_row_group_border_color=OptionsInfo(scss=True, category='stub', type='value', value='#D3D3D3'), source_notes_padding=OptionsInfo(scss=True, category='source_notes', type='px', value='4px'), source_notes_padding_horizontal=OptionsInfo(scss=True, category='source_notes', type='px', value='5px'), source_notes_background_color=OptionsInfo(scss=True, category='source_notes', type='value', value=None), source_notes_font_size=OptionsInfo(scss=True, category='source_notes', type='px', value='90%'), source_notes_border_bottom_style=OptionsInfo(scss=True, category='source_notes', type='value', value='none'), source_notes_border_bottom_width=OptionsInfo(scss=True, category='source_notes', type='px', value='2px'), source_notes_border_bottom_color=OptionsInfo(scss=True, category='source_notes', type='value', value='#D3D3D3'), source_notes_border_lr_style=OptionsInfo(scss=True, category='source_notes', type='value', value='none'), source_notes_border_lr_width=OptionsInfo(scss=True, category='source_notes', type='px', value='2px'), source_notes_border_lr_color=OptionsInfo(scss=True, category='source_notes', type='value', value='#D3D3D3'), source_notes_multiline=OptionsInfo(scss=False, category='source_notes', type='boolean', value=True), source_notes_sep=OptionsInfo(scss=False, category='source_notes', type='value', value=' '), row_striping_background_color=OptionsInfo(scss=True, category='row', type='value', value='rgba(128,128,128,0.05)'), row_striping_include_stub=OptionsInfo(scss=False, category='row', type='boolean', value=False), row_striping_include_table_body=OptionsInfo(scss=False, category='row', type='boolean', value=False), container_width=OptionsInfo(scss=False, category='container', type='px', value='auto'), container_height=OptionsInfo(scss=False, category='container', type='px', value='auto'), container_padding_x=OptionsInfo(scss=False, category='container', type='px', value='0px'), container_padding_y=OptionsInfo(scss=False, category='container', type='px', value='10px'), container_overflow_x=OptionsInfo(scss=False, category='container', type='overflow', value='auto'), container_overflow_y=OptionsInfo(scss=False, category='container', type='overflow', value='auto'), quarto_disable_processing=OptionsInfo(scss=False, category='quarto', type='logical', value=False), quarto_use_bootstrap=OptionsInfo(scss=False, category='quarto', type='logical', value=False)), _has_built=False)"
      ]
     },
     "execution_count": null,
     "metadata": {},
     "output_type": "execute_result"
    }
   ],
   "source": [
    "from great_tables import GT\n",
    "\n",
    "(\n",
    "    GT(df.head())\n",
    "    .tab_header(title=\"Long Beach Animal Shelter\", subtitle=\"Intake and Outcome Records\")\n",
    "    .fmt_date(columns=[\"dob\",\"intake_date\", \"outcome_date\"], date_style=\"wd_m_day_year\")\n",
    "    .cols_hide(columns=[\"animal_name\",\"primary_color\", \"secondary_color\", \"intake_subtype\", \"reason_for_intake\", \"crossing\", \"jurisdiction\", \"latitude\", \"longitude\", \"outcome_is_dead\", \"was_outcome_alive\", \"geopoint\"])\n",
    ")\n"
   ]
  },
  {
   "cell_type": "markdown",
   "metadata": {},
   "source": [
    "## How has the number of pet adoptions changed over the years?\n",
    "First, let's filter our data set to include only `outcome_type = \"adoption\"`. We'll restrict our analysis to only those animals that whose `outcome_type` is labelled \"adoption\", eventhough some animals labelled \"foster to adopt\" may have ultimately been adopted.\n",
    "\n",
    "Next, we'll determine the number of animals adopted each year and also by animal type."
   ]
  },
  {
   "cell_type": "code",
   "execution_count": 14,
   "metadata": {},
   "outputs": [
    {
     "name": "stderr",
     "output_type": "stream",
     "text": [
      "<positron-console-cell-14>:5: SettingWithCopyWarning: \n",
      "A value is trying to be set on a copy of a slice from a DataFrame.\n",
      "Try using .loc[row_indexer,col_indexer] = value instead\n",
      "\n",
      "See the caveats in the documentation: https://pandas.pydata.org/pandas-docs/stable/user_guide/indexing.html#returning-a-view-versus-a-copy\n",
      "<positron-console-cell-14>:6: SettingWithCopyWarning: \n",
      "A value is trying to be set on a copy of a slice from a DataFrame.\n",
      "Try using .loc[row_indexer,col_indexer] = value instead\n",
      "\n",
      "See the caveats in the documentation: https://pandas.pydata.org/pandas-docs/stable/user_guide/indexing.html#returning-a-view-versus-a-copy\n"
     ]
    }
   ],
   "source": [
    "# filter by outcome_type\n",
    "adoption_df = df[df['outcome_type'] == 'adoption']\n",
    "\n",
    "# prep data for plotting as bar plot over time\n",
    "adoption_df['outcome_date'] = pd.to_datetime(adoption_df['outcome_date']) # make sure outcome_date is formatted correctly\n",
    "adoption_df['year'] = adoption_df['outcome_date'].dt.year # extract year from outcome_date\n",
    "grouped_df = adoption_df.groupby(['year', 'animal_type']).size().reset_index(name='count') # Group by year and animal_type, and count occurrences"
   ]
  },
  {
   "cell_type": "markdown",
   "metadata": {},
   "source": [
    "By plotting the number of adoptions by year and animal type, we see that cats, followed by dogs, are the most adopted animal (when looking at rough counts). We also see that during the first years of the COVID-19 pandemic (2020 and 2021) adoptions declined, but then increased dramatically in 2022-2024."
   ]
  },
  {
   "cell_type": "code",
   "execution_count": 16,
   "metadata": {},
   "outputs": [
    {
     "data": {
      "image/png": "[encoded data removed]",
      "text/plain": [
       "<Figure size 1000x600 with 1 Axes>"
      ]
     },
     "metadata": {},
     "output_type": "display_data"
    }
   ],
   "source": [
    "import matplotlib.pyplot as plt\n",
    "import seaborn as sns\n",
    "\n",
    "# Create a bar plot\n",
    "plt.figure(figsize=(10, 6))\n",
    "sns.barplot(data=grouped_df, x='year', y='count', hue='animal_type')\n",
    "\n",
    "# Customize plot\n",
    "plt.title('Number of Animals Adopted by Year and Type')\n",
    "plt.xlabel('Year')\n",
    "plt.ylabel('Count')\n",
    "plt.legend(title='Type of Animal')\n",
    "\n",
    "# Show the plot\n",
    "plt.tight_layout()\n",
    "plt.show()"
   ]
  }
 ],
 "metadata": {
  "language_info": {
   "name": "python"
  }
 },
 "nbformat": 4,
 "nbformat_minor": 2
}
